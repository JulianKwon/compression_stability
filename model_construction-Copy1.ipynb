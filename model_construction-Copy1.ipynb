{
 "cells": [
  {
   "cell_type": "code",
   "execution_count": 1,
   "metadata": {
    "scrolled": true
   },
   "outputs": [
    {
     "name": "stdout",
     "output_type": "stream",
     "text": [
      "Collecting torch\n",
      "\u001b[?25l  Downloading https://files.pythonhosted.org/packages/d2/a9/b3cea4a97ffabd6639e71608814dbd08081e202e8ac9580250273c0541ff/torch-1.9.0-cp37-cp37m-manylinux1_x86_64.whl (831.4MB)\n",
      "\u001b[K     |████████████████████████████████| 831.4MB 47kB/s s eta 0:00:01     |██████████████                  | 362.0MB 67.2MB/s eta 0:00:07\n",
      "\u001b[?25hCollecting torchvision\n",
      "\u001b[?25l  Downloading https://files.pythonhosted.org/packages/71/25/31f5d3c62b80aff0d95b9306e09487a29531a2a3d05cf767376bdc087c3a/torchvision-0.10.0-cp37-cp37m-manylinux1_x86_64.whl (22.1MB)\n",
      "\u001b[K     |████████████████████████████████| 22.1MB 18.5MB/s eta 0:00:010:00:02     |███████████████▊                | 10.8MB 18.5MB/s eta 0:00:01\n",
      "\u001b[?25hCollecting torchaudio\n",
      "\u001b[?25l  Downloading https://files.pythonhosted.org/packages/a8/20/eab40caad8f4b97f5e91a5de8ba5ec29115e08fa4c9a808725490b7b4844/torchaudio-0.9.0-cp37-cp37m-manylinux1_x86_64.whl (1.9MB)\n",
      "\u001b[K     |████████████████████████████████| 1.9MB 16.2MB/s eta 0:00:01\n",
      "\u001b[?25hRequirement already satisfied, skipping upgrade: typing-extensions in /opt/conda/lib/python3.7/site-packages (from torch) (3.7.4.3)\n",
      "Requirement already satisfied, skipping upgrade: numpy in /opt/conda/lib/python3.7/site-packages (from torchvision) (1.17.4)\n",
      "Requirement already satisfied, skipping upgrade: pillow>=5.3.0 in /opt/conda/lib/python3.7/site-packages (from torchvision) (7.0.0)\n",
      "Installing collected packages: torch, torchvision, torchaudio\n",
      "  Found existing installation: torch 1.7.1\n",
      "    Uninstalling torch-1.7.1:\n",
      "      Successfully uninstalled torch-1.7.1\n",
      "  Found existing installation: torchvision 0.8.2\n",
      "    Uninstalling torchvision-0.8.2:\n",
      "      Successfully uninstalled torchvision-0.8.2\n",
      "  Found existing installation: torchaudio 0.7.2\n",
      "    Uninstalling torchaudio-0.7.2:\n",
      "      Successfully uninstalled torchaudio-0.7.2\n",
      "Successfully installed torch-1.9.0 torchaudio-0.9.0 torchvision-0.10.0\n"
     ]
    }
   ],
   "source": [
    "!pip install torch torchvision torchaudio --upgrade"
   ]
  },
  {
   "cell_type": "markdown",
   "metadata": {},
   "source": [
    "## TS dataset"
   ]
  },
  {
   "cell_type": "code",
   "execution_count": 26,
   "metadata": {},
   "outputs": [
    {
     "data": {
      "text/plain": [
       "'\\n@misc{Dua:2019 , author = \"Dua, Dheeru and Graff, Casey\", year = \"2017\", title = \"{UCI} Machine Learning Repository\", url = \"http://archive.ics.uci.edu/ml\", institution = \"University of California, Irvine, School of Information and Computer Sciences\" }\\n'"
      ]
     },
     "execution_count": 26,
     "metadata": {},
     "output_type": "execute_result"
    }
   ],
   "source": [
    "data_path = '/workspace/TSDataset/' # Beijing PM2.5 dataset (https://archive.ics.uci.edu/ml/machine-learning-databases/00235/) household_power_consumption.txt\n",
    "\"\"\"\n",
    "@misc{Dua:2019 , author = \"Dua, Dheeru and Graff, Casey\", year = \"2017\", title = \"{UCI} Machine Learning Repository\", url = \"http://archive.ics.uci.edu/ml\", institution = \"University of California, Irvine, School of Information and Computer Sciences\" }\n",
    "\"\"\""
   ]
  },
  {
   "cell_type": "code",
   "execution_count": 183,
   "metadata": {},
   "outputs": [],
   "source": [
    "import pandas as pd\n",
    "import numpy as np\n",
    "\n",
    "from sklearn.model_selection import train_test_split\n",
    "from sklearn.preprocessing import StandardScaler\n",
    "\n",
    "import matplotlib.pyplot as plt\n",
    "\n",
    "import os\n",
    "\n",
    "from data import HouseholdElectricDataset"
   ]
  },
  {
   "cell_type": "code",
   "execution_count": null,
   "metadata": {},
   "outputs": [],
   "source": [
    "def fill_missing(values):\n",
    "    one_day = 60 * 24\n",
    "    for row in range(values.shape[0]):\n",
    "        for col in range(values.shape[1]):\n",
    "            if isnan(values[row, col]):\n",
    "                values[row, col] = values[row - one_day, col]"
   ]
  },
  {
   "cell_type": "code",
   "execution_count": 18,
   "metadata": {},
   "outputs": [],
   "source": [
    "from numpy import nan\n",
    "from numpy import isnan\n",
    "\n",
    "\n",
    "# load all data\n",
    "dataset = pd.read_csv(data_path, sep=';', header=0, low_memory=False, infer_datetime_format=True, parse_dates={'datetime':[0,1]}, index_col=['datetime'])\n",
    "\n",
    "# mark all missing values\n",
    "dataset.replace('?', nan, inplace=True)\n",
    "\n",
    "# make dataset numeric\n",
    "dataset = dataset.astype('float32')\n",
    "\n",
    "# fill missing\n",
    "fill_missing(dataset.values)"
   ]
  },
  {
   "cell_type": "code",
   "execution_count": 22,
   "metadata": {},
   "outputs": [],
   "source": [
    "values = dataset.values\n",
    "dataset['sub_metering_4'] = (values[:,0] * 1000 / 60) - (values[:,4] + values[:,5] + values[:,6])"
   ]
  },
  {
   "cell_type": "code",
   "execution_count": 82,
   "metadata": {},
   "outputs": [
    {
     "data": {
      "text/plain": [
       "Global_active_power       11.046000\n",
       "Global_reactive_power      1.390000\n",
       "Voltage                   30.949997\n",
       "Global_intensity          48.200001\n",
       "Sub_metering_1            88.000000\n",
       "Sub_metering_2            80.000000\n",
       "Sub_metering_3            31.000000\n",
       "sub_metering_4           127.233330\n",
       "dtype: float32"
      ]
     },
     "execution_count": 82,
     "metadata": {},
     "output_type": "execute_result"
    }
   ],
   "source": [
    "dataset.max() - dataset.min()"
   ]
  },
  {
   "cell_type": "code",
   "execution_count": 23,
   "metadata": {},
   "outputs": [
    {
     "data": {
      "text/html": [
       "<div>\n",
       "<style scoped>\n",
       "    .dataframe tbody tr th:only-of-type {\n",
       "        vertical-align: middle;\n",
       "    }\n",
       "\n",
       "    .dataframe tbody tr th {\n",
       "        vertical-align: top;\n",
       "    }\n",
       "\n",
       "    .dataframe thead th {\n",
       "        text-align: right;\n",
       "    }\n",
       "</style>\n",
       "<table border=\"1\" class=\"dataframe\">\n",
       "  <thead>\n",
       "    <tr style=\"text-align: right;\">\n",
       "      <th></th>\n",
       "      <th>Global_active_power</th>\n",
       "      <th>Global_reactive_power</th>\n",
       "      <th>Voltage</th>\n",
       "      <th>Global_intensity</th>\n",
       "      <th>Sub_metering_1</th>\n",
       "      <th>Sub_metering_2</th>\n",
       "      <th>Sub_metering_3</th>\n",
       "      <th>sub_metering_4</th>\n",
       "    </tr>\n",
       "    <tr>\n",
       "      <th>datetime</th>\n",
       "      <th></th>\n",
       "      <th></th>\n",
       "      <th></th>\n",
       "      <th></th>\n",
       "      <th></th>\n",
       "      <th></th>\n",
       "      <th></th>\n",
       "      <th></th>\n",
       "    </tr>\n",
       "  </thead>\n",
       "  <tbody>\n",
       "  </tbody>\n",
       "</table>\n",
       "</div>"
      ],
      "text/plain": [
       "Empty DataFrame\n",
       "Columns: [Global_active_power, Global_reactive_power, Voltage, Global_intensity, Sub_metering_1, Sub_metering_2, Sub_metering_3, sub_metering_4]\n",
       "Index: []"
      ]
     },
     "execution_count": 23,
     "metadata": {},
     "output_type": "execute_result"
    }
   ],
   "source": [
    "dataset[dataset['Sub_metering_3'].isna()]"
   ]
  },
  {
   "cell_type": "code",
   "execution_count": 27,
   "metadata": {},
   "outputs": [],
   "source": [
    "dataset.to_csv(os.path.join(data_path, 'household_power_consumption.csv'))"
   ]
  },
  {
   "cell_type": "code",
   "execution_count": 31,
   "metadata": {
    "scrolled": false
   },
   "outputs": [
    {
     "data": {
      "text/plain": [
       "[<matplotlib.lines.Line2D at 0x7fabab385690>]"
      ]
     },
     "execution_count": 31,
     "metadata": {},
     "output_type": "execute_result"
    },
    {
     "data": {
      "image/png": "[encoded data removed]",
      "text/plain": [
       "<Figure size 1440x720 with 1 Axes>"
      ]
     },
     "metadata": {
      "needs_background": "light"
     },
     "output_type": "display_data"
    }
   ],
   "source": [
    "plt.figure(figsize=(20,10))\n",
    "plt.plot(dataset['Sub_metering_3'][1900000:19001000])"
   ]
  },
  {
   "cell_type": "code",
   "execution_count": 32,
   "metadata": {},
   "outputs": [
    {
     "data": {
      "text/plain": [
       "(2075259, 8)"
      ]
     },
     "execution_count": 32,
     "metadata": {},
     "output_type": "execute_result"
    }
   ],
   "source": [
    "dataset.shape"
   ]
  },
  {
   "cell_type": "code",
   "execution_count": 83,
   "metadata": {},
   "outputs": [
    {
     "data": {
      "text/plain": [
       "10080"
      ]
     },
     "execution_count": 83,
     "metadata": {},
     "output_type": "execute_result"
    }
   ],
   "source": [
    "24*60*7"
   ]
  },
  {
   "cell_type": "code",
   "execution_count": 84,
   "metadata": {},
   "outputs": [],
   "source": [
    "window_size = 24*7\n",
    "prediction_length = 24*7 \n",
    "\n",
    "dilation = 60 # hourly data\n",
    "test_size=0.2\n"
   ]
  },
  {
   "cell_type": "code",
   "execution_count": 104,
   "metadata": {},
   "outputs": [],
   "source": [
    "dt = dataset.resample('%dMin'%dilation).mean()\n",
    "columns = dt.columns\n",
    "scaler =  StandardScaler()\n",
    "dt = scaler.fit_transform(dt)"
   ]
  },
  {
   "cell_type": "code",
   "execution_count": 184,
   "metadata": {
    "scrolled": true
   },
   "outputs": [
    {
     "ename": "TypeError",
     "evalue": "Only valid with DatetimeIndex, TimedeltaIndex or PeriodIndex, but got an instance of 'Index'",
     "output_type": "error",
     "traceback": [
      "\u001b[0;31m---------------------------------------------------------------------------\u001b[0m",
      "\u001b[0;31mTypeError\u001b[0m                                 Traceback (most recent call last)",
      "\u001b[0;32m<ipython-input-184-7181e47780b7>\u001b[0m in \u001b[0;36m<module>\u001b[0;34m\u001b[0m\n\u001b[0;32m----> 1\u001b[0;31m \u001b[0mdataset\u001b[0m \u001b[0;34m=\u001b[0m \u001b[0mHouseholdElectricDataset\u001b[0m\u001b[0;34m(\u001b[0m\u001b[0;34m'household_power_consumption.csv'\u001b[0m\u001b[0;34m,\u001b[0m \u001b[0mdata_path\u001b[0m\u001b[0;34m,\u001b[0m \u001b[0mwindow_size\u001b[0m\u001b[0;34m,\u001b[0m \u001b[0mprediction_length\u001b[0m\u001b[0;34m)\u001b[0m\u001b[0;34m\u001b[0m\u001b[0;34m\u001b[0m\u001b[0m\n\u001b[0m",
      "\u001b[0;32m/workspace/Julian/compression_stability/data/ts_dataloader.py\u001b[0m in \u001b[0;36m__init__\u001b[0;34m(self, file, root_dir, window_size, prediction_length, test_size, transform)\u001b[0m\n\u001b[1;32m    149\u001b[0m     def __init__(self, file, root_dir, window_size=24 * 7, prediction_length=24, test_size=0.2, dilation=60,\n\u001b[1;32m    150\u001b[0m                  transform=None):\n\u001b[0;32m--> 151\u001b[0;31m         \u001b[0msuper\u001b[0m\u001b[0;34m(\u001b[0m\u001b[0;34m)\u001b[0m\u001b[0;34m.\u001b[0m\u001b[0m__init__\u001b[0m\u001b[0;34m(\u001b[0m\u001b[0mfile\u001b[0m\u001b[0;34m,\u001b[0m \u001b[0mroot_dir\u001b[0m\u001b[0;34m,\u001b[0m \u001b[0mwindow_size\u001b[0m\u001b[0;34m,\u001b[0m \u001b[0mprediction_length\u001b[0m\u001b[0;34m,\u001b[0m \u001b[0mtest_size\u001b[0m\u001b[0;34m,\u001b[0m \u001b[0mtransform\u001b[0m\u001b[0;34m,\u001b[0m \u001b[0mdilation\u001b[0m\u001b[0;34m=\u001b[0m\u001b[0mdilation\u001b[0m\u001b[0;34m)\u001b[0m\u001b[0;34m\u001b[0m\u001b[0;34m\u001b[0m\u001b[0m\n\u001b[0m\u001b[1;32m    152\u001b[0m         \u001b[0mself\u001b[0m\u001b[0;34m.\u001b[0m\u001b[0mdata\u001b[0m\u001b[0;34m,\u001b[0m \u001b[0mself\u001b[0m\u001b[0;34m.\u001b[0m\u001b[0mcolumns\u001b[0m\u001b[0;34m,\u001b[0m \u001b[0mself\u001b[0m\u001b[0;34m.\u001b[0m\u001b[0mscaler\u001b[0m \u001b[0;34m=\u001b[0m \u001b[0mself\u001b[0m\u001b[0;34m.\u001b[0m\u001b[0m_prepare_data\u001b[0m\u001b[0;34m(\u001b[0m\u001b[0;34m)\u001b[0m\u001b[0;34m\u001b[0m\u001b[0;34m\u001b[0m\u001b[0m\n\u001b[1;32m    153\u001b[0m \u001b[0;34m\u001b[0m\u001b[0m\n",
      "\u001b[0;32m/workspace/Julian/compression_stability/data/ts_dataloader.py\u001b[0m in \u001b[0;36m_prepare_data\u001b[0;34m(self)\u001b[0m\n\u001b[1;32m    154\u001b[0m     \u001b[0;32mdef\u001b[0m \u001b[0m_prepare_data\u001b[0m\u001b[0;34m(\u001b[0m\u001b[0mself\u001b[0m\u001b[0;34m)\u001b[0m\u001b[0;34m:\u001b[0m\u001b[0;34m\u001b[0m\u001b[0;34m\u001b[0m\u001b[0m\n\u001b[1;32m    155\u001b[0m         df = pd.read_csv(os.path.join(self.root_dir, self.file), header=0, low_memory=False, infer_datetime_format=True,\n\u001b[0;32m--> 156\u001b[0;31m                          index_col=['datetime'])\n\u001b[0m\u001b[1;32m    157\u001b[0m         \u001b[0mdf\u001b[0m \u001b[0;34m=\u001b[0m \u001b[0mdf\u001b[0m\u001b[0;34m.\u001b[0m\u001b[0mresample\u001b[0m\u001b[0;34m(\u001b[0m\u001b[0;34m'%dMin'\u001b[0m \u001b[0;34m%\u001b[0m \u001b[0mself\u001b[0m\u001b[0;34m.\u001b[0m\u001b[0mdilation\u001b[0m\u001b[0;34m)\u001b[0m\u001b[0;34m.\u001b[0m\u001b[0mmean\u001b[0m\u001b[0;34m(\u001b[0m\u001b[0;34m)\u001b[0m\u001b[0;34m\u001b[0m\u001b[0;34m\u001b[0m\u001b[0m\n\u001b[1;32m    158\u001b[0m         \u001b[0mcolumns\u001b[0m \u001b[0;34m=\u001b[0m \u001b[0mdf\u001b[0m\u001b[0;34m.\u001b[0m\u001b[0mcolumns\u001b[0m\u001b[0;34m\u001b[0m\u001b[0;34m\u001b[0m\u001b[0m\n",
      "\u001b[0;32m/opt/conda/lib/python3.7/site-packages/pandas/core/generic.py\u001b[0m in \u001b[0;36mresample\u001b[0;34m(self, rule, axis, closed, label, convention, kind, loffset, base, on, level)\u001b[0m\n\u001b[1;32m   8113\u001b[0m             \u001b[0mbase\u001b[0m\u001b[0;34m=\u001b[0m\u001b[0mbase\u001b[0m\u001b[0;34m,\u001b[0m\u001b[0;34m\u001b[0m\u001b[0;34m\u001b[0m\u001b[0m\n\u001b[1;32m   8114\u001b[0m             \u001b[0mkey\u001b[0m\u001b[0;34m=\u001b[0m\u001b[0mon\u001b[0m\u001b[0;34m,\u001b[0m\u001b[0;34m\u001b[0m\u001b[0;34m\u001b[0m\u001b[0m\n\u001b[0;32m-> 8115\u001b[0;31m             \u001b[0mlevel\u001b[0m\u001b[0;34m=\u001b[0m\u001b[0mlevel\u001b[0m\u001b[0;34m,\u001b[0m\u001b[0;34m\u001b[0m\u001b[0;34m\u001b[0m\u001b[0m\n\u001b[0m\u001b[1;32m   8116\u001b[0m         )\n\u001b[1;32m   8117\u001b[0m \u001b[0;34m\u001b[0m\u001b[0m\n",
      "\u001b[0;32m/opt/conda/lib/python3.7/site-packages/pandas/core/resample.py\u001b[0m in \u001b[0;36mresample\u001b[0;34m(obj, kind, **kwds)\u001b[0m\n\u001b[1;32m   1268\u001b[0m     \"\"\"\n\u001b[1;32m   1269\u001b[0m     \u001b[0mtg\u001b[0m \u001b[0;34m=\u001b[0m \u001b[0mTimeGrouper\u001b[0m\u001b[0;34m(\u001b[0m\u001b[0;34m**\u001b[0m\u001b[0mkwds\u001b[0m\u001b[0;34m)\u001b[0m\u001b[0;34m\u001b[0m\u001b[0;34m\u001b[0m\u001b[0m\n\u001b[0;32m-> 1270\u001b[0;31m     \u001b[0;32mreturn\u001b[0m \u001b[0mtg\u001b[0m\u001b[0;34m.\u001b[0m\u001b[0m_get_resampler\u001b[0m\u001b[0;34m(\u001b[0m\u001b[0mobj\u001b[0m\u001b[0;34m,\u001b[0m \u001b[0mkind\u001b[0m\u001b[0;34m=\u001b[0m\u001b[0mkind\u001b[0m\u001b[0;34m)\u001b[0m\u001b[0;34m\u001b[0m\u001b[0;34m\u001b[0m\u001b[0m\n\u001b[0m\u001b[1;32m   1271\u001b[0m \u001b[0;34m\u001b[0m\u001b[0m\n\u001b[1;32m   1272\u001b[0m \u001b[0;34m\u001b[0m\u001b[0m\n",
      "\u001b[0;32m/opt/conda/lib/python3.7/site-packages/pandas/core/resample.py\u001b[0m in \u001b[0;36m_get_resampler\u001b[0;34m(self, obj, kind)\u001b[0m\n\u001b[1;32m   1402\u001b[0m \u001b[0;34m\u001b[0m\u001b[0m\n\u001b[1;32m   1403\u001b[0m         raise TypeError(\n\u001b[0;32m-> 1404\u001b[0;31m             \u001b[0;34m\"Only valid with DatetimeIndex, \"\u001b[0m\u001b[0;34m\u001b[0m\u001b[0;34m\u001b[0m\u001b[0m\n\u001b[0m\u001b[1;32m   1405\u001b[0m             \u001b[0;34m\"TimedeltaIndex or PeriodIndex, \"\u001b[0m\u001b[0;34m\u001b[0m\u001b[0;34m\u001b[0m\u001b[0m\n\u001b[1;32m   1406\u001b[0m             \u001b[0;34mf\"but got an instance of '{type(ax).__name__}'\"\u001b[0m\u001b[0;34m\u001b[0m\u001b[0;34m\u001b[0m\u001b[0m\n",
      "\u001b[0;31mTypeError\u001b[0m: Only valid with DatetimeIndex, TimedeltaIndex or PeriodIndex, but got an instance of 'Index'"
     ]
    }
   ],
   "source": [
    "dataset = HouseholdElectricDataset('household_power_consumption.csv', data_path, window_size, prediction_length)"
   ]
  },
  {
   "cell_type": "code",
   "execution_count": null,
   "metadata": {},
   "outputs": [],
   "source": [
    "def make_dataloader(type='train', batch_size=1000):\n",
    "    if type == 'train':\n",
    "        loader = get_loader(self.X_train.reshape(self.X_train.shape[0], -1), self.y_train, batch_size)\n",
    "    elif type == 'valid':\n",
    "        loader = get_loader(self.X_valid.reshape(self.X_valid.shape[0], -1), self.y_valid, batch_size)\n",
    "    else:\n",
    "        loader = get_loader(self.X_test.reshape(self.X_test.shape[0], -1), self.y_test, batch_size)\n",
    "\n",
    "    return loader\n",
    "\n",
    "def __channel__(self):\n",
    "    return self.data.shape[1]\n",
    "\n",
    "def __len__(self):\n",
    "    \"\"\"\n",
    "\n",
    "    :return: data_size\n",
    "    \"\"\"\n",
    "    return len(self.data)\n",
    "\n",
    "def save_scaler(self):\n",
    "    save_data(self.scaler, '../data_', 'scaler.pkl')\n",
    "\n",
    "\n",
    "def _window_shifting(self):\n",
    "    \"\"\"\n",
    "\n",
    "    :return:\n",
    "         X_total_train,\n",
    "         y_total_train,\n",
    "         X_total_valid,\n",
    "         y_total_valid,\n",
    "         X_total_test,\n",
    "         y_total_test\n",
    "    \"\"\"\n",
    "    X_train, X_test, y_train, y_test = train_test_split(self.data, self.data[:, 4], test_size=self.test_size,\n",
    "                                                        shuffle=False)\n",
    "\n",
    "    validation_spot = int(len(X_train) * 0.8)\n",
    "    test_perm = np.random.permutation(len(X_test) - (self.window_size + self.prediction_length) + 1)\n",
    "\n",
    "    X_total_test = np.zeros(\n",
    "        (X_test.shape[0] - (self.window_size + self.prediction_length) + 1, X_test.shape[1], self.window_size))\n",
    "    y_total_test = np.zeros(\n",
    "        (X_test.shape[0] - (self.window_size + self.prediction_length) + 1, self.prediction_length))\n",
    "\n",
    "    X_total_test, y_total_test = self._make_dataset(X_total_test, y_total_test, X_test, test_perm)\n",
    "\n",
    "    _X_train = X_train[:validation_spot]\n",
    "    _X_valid = X_train[validation_spot:]\n",
    "    _y_train = y_train[:validation_spot]\n",
    "    _y_valid = y_train[validation_spot:]\n",
    "\n",
    "    perm_train = np.random.permutation(len(_X_train) - (self.window_size + self.prediction_length) + 1)\n",
    "    perm_valid = np.random.permutation(len(_X_valid) - (self.window_size + self.prediction_length) + 1)\n",
    "\n",
    "    X_total_train = np.zeros(\n",
    "        (len(_X_train) - (self.window_size + self.prediction_length) + 1, _X_train.shape[1], self.window_size))\n",
    "    y_total_train = np.zeros(\n",
    "        (len(_y_train) - (self.window_size + self.prediction_length) + 1, self.prediction_length))\n",
    "    X_total_valid = np.zeros(\n",
    "        (len(_X_valid) - (self.window_size + self.prediction_length) + 1, _X_train.shape[1], self.window_size))\n",
    "    y_total_valid = np.zeros(\n",
    "        (len(_y_valid) - (self.window_size + self.prediction_length) + 1, self.prediction_length))\n",
    "\n",
    "    X_total_train, y_total_train = self._make_dataset(X_total_train, y_total_train, _X_train, perm_train)\n",
    "    X_total_valid, y_total_valid = self._make_dataset(X_total_valid, y_total_valid, _X_valid, perm_valid)\n",
    "\n",
    "    return X_total_train, y_total_train, X_total_valid, y_total_valid, X_total_test, y_total_test\n",
    "\n",
    "def _make_dataset(self, X_total, y_total, data, perm):\n",
    "    for j, idx in enumerate(perm):\n",
    "        X = data[idx:idx + self.window_size]\n",
    "        y = data[idx + self.window_size:idx + self.window_size + self.prediction_length][:, 4]\n",
    "        X = np.transpose(X)\n",
    "        X_total[j] = X\n",
    "        y_total[j] = y\n",
    "\n",
    "    return X_total, y_total"
   ]
  },
  {
   "cell_type": "code",
   "execution_count": null,
   "metadata": {},
   "outputs": [],
   "source": []
  },
  {
   "cell_type": "code",
   "execution_count": null,
   "metadata": {},
   "outputs": [],
   "source": []
  },
  {
   "cell_type": "code",
   "execution_count": null,
   "metadata": {},
   "outputs": [],
   "source": []
  },
  {
   "cell_type": "code",
   "execution_count": null,
   "metadata": {},
   "outputs": [],
   "source": []
  },
  {
   "cell_type": "code",
   "execution_count": null,
   "metadata": {},
   "outputs": [],
   "source": []
  },
  {
   "cell_type": "code",
   "execution_count": null,
   "metadata": {},
   "outputs": [],
   "source": []
  },
  {
   "cell_type": "code",
   "execution_count": null,
   "metadata": {},
   "outputs": [],
   "source": []
  },
  {
   "cell_type": "code",
   "execution_count": null,
   "metadata": {},
   "outputs": [],
   "source": []
  },
  {
   "cell_type": "code",
   "execution_count": null,
   "metadata": {},
   "outputs": [],
   "source": []
  },
  {
   "cell_type": "code",
   "execution_count": null,
   "metadata": {},
   "outputs": [],
   "source": []
  },
  {
   "cell_type": "code",
   "execution_count": null,
   "metadata": {},
   "outputs": [],
   "source": []
  },
  {
   "cell_type": "code",
   "execution_count": null,
   "metadata": {},
   "outputs": [],
   "source": []
  },
  {
   "cell_type": "code",
   "execution_count": null,
   "metadata": {},
   "outputs": [],
   "source": []
  },
  {
   "cell_type": "code",
   "execution_count": null,
   "metadata": {},
   "outputs": [],
   "source": []
  },
  {
   "cell_type": "code",
   "execution_count": null,
   "metadata": {},
   "outputs": [],
   "source": [
    "# 준형 TODO\n",
    "def conv_batch_prun(layer, args): ## 잘라낼 index를 return\n",
    "\n",
    "    \n",
    "    pass\n",
    "\n",
    "def fc_prun(layer, args):\n",
    "    pass\n",
    "\n",
    "def get_prun_idx(layer, sparsity):\n",
    "    conv_idxs = None\n",
    "\n",
    "    for name, module in layer.named_modules():\n",
    "        if isinstance(module, torch.nn.Conv2d):\n",
    "            mask = torch.ones_like(module.weight)\n",
    "            with torch.no_grad():\n",
    "                for n, param in module.named_parameters():\n",
    "                    if 'weight' in n:\n",
    "                        p = param.view(param.shape[0], -1)\n",
    "                        p = torch.linalg.norm(p, dim=1)\n",
    "                        lambda_ = p.sort()[0][int(sparsity * p.shape[0])]\n",
    "                        conv_idxs = p.abs() < lambda_\n",
    "    return conv_idxs\n",
    "\n",
    "# Prun\n",
    "def conv_residual_pattern(prev_conv, residual_block):\n",
    "    args = get_prun_idx(prev_conv)\n",
    "    conv_batch_prun(prev_conv, args)\n",
    "    for residual in residual_block:\n",
    "        conv_batch_prun(residual.layer2, args)\n",
    "        \n",
    "def conv_residual_fc_pattern(prev_conv, residual_block, fc):\n",
    "    args = get_prun_idx(prev_conv)\n",
    "    conv_batch_prun(prev_conv, args)\n",
    "    for residual in residual_block:\n",
    "        conv_batch_prun(residual.layer2, args)    \n",
    "    fc_prun(fc, args)    "
   ]
  },
  {
   "cell_type": "code",
   "execution_count": null,
   "metadata": {},
   "outputs": [],
   "source": [
    "# 준형 TODO\n",
    "def conv_batch_compress_filter(layer, args):\n",
    "    layer[0].weight = layer[0].weight[args]\n",
    "    layer[1].weight = layer[1].weight[args]\n",
    "    pass\n",
    "    \n",
    "def conv_batch_compress_channel(layer, args):\n",
    "    layer[0].weight = layer[0].weight[:, args]\n",
    "    pass\n",
    "\n"
   ]
  },
  {
   "cell_type": "code",
   "execution_count": null,
   "metadata": {},
   "outputs": [],
   "source": [
    "def conv_residual_pattern(prev_conv, residual_block):\n",
    "    args = get_zero_norm_idx(prev_conv)\n",
    "    \n",
    "    conv_batch_prun(prev_conv, args)\n",
    "    for residual in residual_block:\n",
    "        conv_batch_prun(residual.layer2, args)\n",
    "        \n",
    "def conv_residual_fc_pattern(prev_conv, residual_block, fc):\n",
    "    args = get_prun_idx(prev_conv)\n",
    "    conv_batch_prun(prev_conv, args)\n",
    "    for residual in residual_block:\n",
    "        conv_batch_prun(residual.layer2, args)    \n",
    "    fc_prun(fc, args)    "
   ]
  },
  {
   "cell_type": "code",
   "execution_count": null,
   "metadata": {},
   "outputs": [],
   "source": []
  },
  {
   "cell_type": "code",
   "execution_count": null,
   "metadata": {},
   "outputs": [],
   "source": []
  },
  {
   "cell_type": "code",
   "execution_count": null,
   "metadata": {},
   "outputs": [],
   "source": []
  },
  {
   "cell_type": "code",
   "execution_count": null,
   "metadata": {},
   "outputs": [],
   "source": []
  },
  {
   "cell_type": "code",
   "execution_count": null,
   "metadata": {},
   "outputs": [],
   "source": []
  },
  {
   "cell_type": "code",
   "execution_count": null,
   "metadata": {},
   "outputs": [],
   "source": []
  },
  {
   "cell_type": "code",
   "execution_count": null,
   "metadata": {},
   "outputs": [],
   "source": []
  },
  {
   "cell_type": "code",
   "execution_count": null,
   "metadata": {},
   "outputs": [],
   "source": []
  },
  {
   "cell_type": "code",
   "execution_count": null,
   "metadata": {},
   "outputs": [],
   "source": []
  },
  {
   "cell_type": "markdown",
   "metadata": {},
   "source": [
    "## Modeling"
   ]
  },
  {
   "cell_type": "code",
   "execution_count": null,
   "metadata": {},
   "outputs": [],
   "source": [
    "import torch\n",
    "from torch import nn, optim"
   ]
  },
  {
   "cell_type": "code",
   "execution_count": 180,
   "metadata": {},
   "outputs": [],
   "source": [
    "input_dim = 8\n",
    "hidden_dim = [input_dim, 32, 64, 32]\n",
    "paddings=(0,)*3\n",
    "output_paddings=(1,1,0)*3\n",
    "strides=(2,2,2)\n",
    "kernel_sizes=(5,)*3\n",
    "dilations=(1,2,4)\n",
    "enc_l_out = lambda l_in, padding, kernel_size, stride, dilation: int( (l_in + 2 * padding - dilation * (kernel_size - 1) - 1)/stride + 1 )\n",
    "\n",
    "dec_l_out = lambda l_in, padding, kernel_size, stride, dilation: int( (l_in - 1) * stride - 2 * padding + dilation *(kernel_size - 1) + 1 )\n",
    "\n",
    "l_in = 7*24\n",
    "\n",
    "inp = torch.randn(100, 8, l_in) # n, c_in, l_in\n",
    "\n",
    "enc_convs = nn.Sequential()\n",
    "for i in range(3):\n",
    "    enc_convs.add_module('conv%d'%(i+1), nn.Conv1d(hidden_dim[i], hidden_dim[i+1], kernel_sizes[i], strides[i], paddings[i], dilations[i]))\n",
    "    enc_convs.add_module('relu%d'%(i+1), nn.LeakyReLU())\n",
    "    l_in = enc_l_out(l_in, paddings[i], kernel_sizes[i], strides[i], dilations[i])\n",
    "    \n",
    "fc_in = l_in * hidden_dim[-1]\n",
    "fc_dims = (fc_in, 256, 256)\n",
    "\n",
    "enc_fcs = nn.Sequential()\n",
    "for i in range(2):\n",
    "    enc_fcs.add_module('fc%d'%(i+1), nn.Linear(fc_dims[i], fc_dims[i+1]))\n",
    "    \n",
    "\n",
    "dec_fcs = nn.Sequential()\n",
    "for i in range(2):\n",
    "    if i == 0:\n",
    "        in_c = 128\n",
    "    else:\n",
    "        in_c = fc_dims[-1 - i]\n",
    "    dec_fcs.add_module('fc%d' % (i + 1), nn.Linear(in_c, fc_dims[-2 - i]))\n",
    "\n",
    "\n",
    "dec_convs = nn.Sequential()\n",
    "for i in range(3):\n",
    "    dec_convs.add_module('conv%d'%(i+1), nn.ConvTranspose1d(hidden_dim[-1 - i], hidden_dim[-2 - i], kernel_sizes[-1 - i], strides[-1 - i], paddings[-1 - i], output_paddings[-1 - i], dilation=dilations[-1 - i]))\n",
    "    dec_convs.add_module('relu%d'%(i+1), nn.LeakyReLU())\n",
    "#     l_in = dec_l_out(l_in, paddings[i], kernel_sizes[i], strides[i], dilations[i])"
   ]
  },
  {
   "cell_type": "code",
   "execution_count": 181,
   "metadata": {},
   "outputs": [],
   "source": [
    "def reparameterize(mu, logvar):\n",
    "    std = torch.exp(0.5*logvar)\n",
    "    eps = torch.randn_like(std)\n",
    "    return mu + eps*std"
   ]
  },
  {
   "cell_type": "code",
   "execution_count": 182,
   "metadata": {},
   "outputs": [
    {
     "name": "stdout",
     "output_type": "stream",
     "text": [
      "torch.Size([100, 8, 168])\n",
      "torch.Size([100, 32, 11])\n",
      "torch.Size([100, 352])\n",
      "torch.Size([100, 256])\n",
      "torch.Size([100, 128]) torch.Size([100, 128])\n",
      "torch.Size([100, 128])\n",
      "torch.Size([100, 352])\n",
      "torch.Size([100, 32, 11])\n",
      "torch.Size([100, 8, 168])\n"
     ]
    }
   ],
   "source": [
    "print(inp.shape)\n",
    "out = enc_convs(inp)\n",
    "print(out.shape)\n",
    "out = out.view(out.shape[0], -1)\n",
    "print(out.shape)\n",
    "out = enc_fcs(out)\n",
    "print(out.shape)\n",
    "mu, logvar = out[:, :128], out[:, 128:]\n",
    "print(mu.shape, logvar.shape)\n",
    "out = reparameterize(mu, logvar)\n",
    "print(out.shape)\n",
    "out = dec_fcs(out)\n",
    "print(out.shape)\n",
    "out = out.reshape(out.shape[0], int(out.shape[1]/l_in), l_in)\n",
    "print(out.shape)\n",
    "out = dec_convs(out)\n",
    "print(out.shape)\n"
   ]
  },
  {
   "cell_type": "code",
   "execution_count": 172,
   "metadata": {},
   "outputs": [
    {
     "data": {
      "text/plain": [
       "torch.Size([100, 8, 165])"
      ]
     },
     "execution_count": 172,
     "metadata": {},
     "output_type": "execute_result"
    }
   ],
   "source": [
    "out.shape"
   ]
  },
  {
   "cell_type": "code",
   "execution_count": 81,
   "metadata": {},
   "outputs": [
    {
     "data": {
      "text/plain": [
       "(170, torch.Size([100, 32, 170]), torch.Size([100, 5440]))"
      ]
     },
     "execution_count": 81,
     "metadata": {},
     "output_type": "execute_result"
    }
   ],
   "source": [
    "l_in, out.shape, out.view(inp.shape[0], -1).shape"
   ]
  },
  {
   "cell_type": "code",
   "execution_count": 47,
   "metadata": {},
   "outputs": [
    {
     "data": {
      "text/plain": [
       "torch.Size([100, 45184])"
      ]
     },
     "execution_count": 47,
     "metadata": {},
     "output_type": "execute_result"
    }
   ],
   "source": []
  },
  {
   "cell_type": "code",
   "execution_count": 1,
   "metadata": {},
   "outputs": [],
   "source": [
    "from data import mnist\n",
    "from models import L0LeNet\n",
    "\n",
    "import numpy as np\n",
    "import pandas as pd\n",
    "\n",
    "import matplotlib.pyplot as plt\n",
    "from torch import nn, optim\n",
    "import torch\n",
    "\n",
    "from collections import OrderedDict\n",
    "import time\n",
    "\n",
    "from utils import AverageMeter\n",
    "\n",
    "from copy import deepcopy\n",
    "\n",
    "import torch.nn.functional as F"
   ]
  },
  {
   "cell_type": "code",
   "execution_count": 2,
   "metadata": {},
   "outputs": [
    {
     "name": "stderr",
     "output_type": "stream",
     "text": [
      "/opt/conda/lib/python3.7/site-packages/torchvision/datasets/mnist.py:498: UserWarning: The given NumPy array is not writeable, and PyTorch does not support non-writeable tensors. This means you can write to the underlying (supposedly non-writeable) NumPy array using the tensor. You may want to copy the array to protect its data or make it writeable before converting it to a tensor. This type of warning will be suppressed for the rest of this program. (Triggered internally at  /pytorch/torch/csrc/utils/tensor_numpy.cpp:180.)\n",
      "  return torch.from_numpy(parsed.astype(m[2], copy=False)).view(*s)\n"
     ]
    },
    {
     "data": {
      "text/plain": [
       "L0LeNet(\n",
       "  (convs): Sequential(\n",
       "    (conv1): L0Conv2d(1, 32, kernel_size=(5, 5), stride=(1, 1), sparse_ratio=0.0)\n",
       "    (relu1): ReLU()\n",
       "    (maxpool1): MaxPool2d(kernel_size=2, stride=2, padding=0, dilation=1, ceil_mode=False)\n",
       "    (conv2): L0Conv2d(32, 64, kernel_size=(5, 5), stride=(1, 1), sparse_ratio=0.0)\n",
       "    (relu2): ReLU()\n",
       "    (maxpool2): MaxPool2d(kernel_size=2, stride=2, padding=0, dilation=1, ceil_mode=False)\n",
       "  )\n",
       "  (fcs): Sequential(\n",
       "    (fc1): L0Dense(1024 -> 256, sparse_ratio=0.0)\n",
       "    (relu3): ReLU()\n",
       "    (fc2): L0Dense(256 -> 256, sparse_ratio=0.0)\n",
       "    (relu4): ReLU()\n",
       "    (fc3): L0Dense(256 -> 10, sparse_ratio=0.0)\n",
       "  )\n",
       ")"
      ]
     },
     "execution_count": 2,
     "metadata": {},
     "output_type": "execute_result"
    }
   ],
   "source": [
    "train_loader, val_loader, num_classes = mnist()\n",
    "\n",
    "model = L0LeNet(10, device=5)\n",
    "model.train()"
   ]
  },
  {
   "cell_type": "code",
   "execution_count": 3,
   "metadata": {},
   "outputs": [],
   "source": [
    "criterion = nn.CrossEntropyLoss().to('cuda:5')\n",
    "optimizer = optim.Adam(model.parameters(), lr=0.001)"
   ]
  },
  {
   "cell_type": "code",
   "execution_count": 11,
   "metadata": {},
   "outputs": [],
   "source": [
    "def iteration(model, loader, criterion, name='L0LeNet', isTrain=True, isConstrain=False, print_freq=100,\n",
    "              optimizer=None, epoch=0):\n",
    "    batch_time = AverageMeter()\n",
    "    data_time = AverageMeter()\n",
    "    losses = AverageMeter()\n",
    "    end = time.time()\n",
    "\n",
    "    total_softmax = []\n",
    "    total_labels = []\n",
    "    total_preds = []\n",
    "\n",
    "    model.train() if isTrain else model.eval()\n",
    "\n",
    "    for i, (X, y) in enumerate(loader):\n",
    "        data_time.update(time.time() - end)\n",
    "        if torch.cuda.is_available():\n",
    "            X, y = X.to('cuda:5'), y.to('cuda:5')\n",
    "\n",
    "        pred = model(X)\n",
    "        loss = criterion(pred, y)\n",
    "        losses.update(loss.data, X.size(0))\n",
    "\n",
    "        if isTrain:\n",
    "            optimizer.zero_grad()\n",
    "            loss.backward()\n",
    "            optimizer.step()\n",
    "\n",
    "        if isConstrain:\n",
    "            layers = model.layers\n",
    "            for layer in layers:\n",
    "                layer.clamp_params()\n",
    "\n",
    "        # get metric\n",
    "        pred = F.softmax(pred)\n",
    "        _, p_data = pred.data.max(dim=1)\n",
    "        s_data, y_data = pred.data.cpu().detach().numpy(), y.data.cpu().detach().numpy()\n",
    "        p_data = p_data.cpu().detach().numpy()\n",
    "\n",
    "        total_softmax.append(s_data)\n",
    "        total_labels.append(y_data)\n",
    "        total_preds.append(p_data)\n",
    "\n",
    "        # measure elapsed time\n",
    "        batch_time.update(time.time() - end)\n",
    "        end = time.time()\n",
    "        if i % print_freq == 0:\n",
    "            print(' Epoch: [{0}][{1}/{2}]\\t'\n",
    "                  'Time {batch_time.val:.3f} ({batch_time.avg:.3f})\\t'\n",
    "                  'Data {data_time.val:.3f} ({data_time.avg:.3f})\\t'\n",
    "                  'Loss {loss.val:.4f} ({loss.avg:.4f})\\t'.format(\n",
    "                epoch, i, len(loader), batch_time=batch_time,\n",
    "                data_time=data_time, loss=losses))\n",
    "\n",
    "    total_softmax = reshape_resulting_array(total_softmax)\n",
    "    total_labels = np.array(total_labels).reshape(-1).squeeze()\n",
    "    total_preds = np.array(total_preds).reshape(-1).squeeze()\n",
    "\n",
    "    result = accuracy(total_labels, total_preds, total_softmax)\n",
    "\n",
    "    # if save_state:\n",
    "    state = {\n",
    "        'name': name,\n",
    "        'epoch': epoch + 1,\n",
    "        'state_dict': deepcopy(model).cpu().state_dict(),\n",
    "        'results': result,\n",
    "        'loss': losses.avg.detach().cpu().numpy(),\n",
    "        'softmax_output': total_softmax,\n",
    "        'labels': total_labels,\n",
    "        'preds': total_preds\n",
    "    }\n",
    "    \n",
    "    if isTrain:\n",
    "        state['optimizer'] = deepcopy(optimizer).state_dict()\n",
    "\n",
    "    return state"
   ]
  },
  {
   "cell_type": "code",
   "execution_count": 13,
   "metadata": {},
   "outputs": [
    {
     "name": "stderr",
     "output_type": "stream",
     "text": [
      "/opt/conda/lib/python3.7/site-packages/ipykernel_launcher.py:34: UserWarning: Implicit dimension choice for softmax has been deprecated. Change the call to include dim=X as an argument.\n"
     ]
    },
    {
     "name": "stdout",
     "output_type": "stream",
     "text": [
      " Epoch: [0][0/600]\tTime 0.413 (0.413)\tData 0.392 (0.392)\tLoss nan (nan)\t\n",
      " Epoch: [0][100/600]\tTime 0.004 (0.011)\tData 0.000 (0.004)\tLoss nan (nan)\t\n",
      " Epoch: [0][200/600]\tTime 0.003 (0.009)\tData 0.000 (0.002)\tLoss nan (nan)\t\n",
      " Epoch: [0][300/600]\tTime 0.007 (0.008)\tData 0.000 (0.002)\tLoss nan (nan)\t\n",
      " Epoch: [0][400/600]\tTime 0.007 (0.008)\tData 0.000 (0.001)\tLoss nan (nan)\t\n",
      " Epoch: [0][500/600]\tTime 0.008 (0.008)\tData 0.000 (0.001)\tLoss nan (nan)\t\n"
     ]
    },
    {
     "ename": "NameError",
     "evalue": "name 'reshape_resulting_array' is not defined",
     "output_type": "error",
     "traceback": [
      "\u001b[0;31m---------------------------------------------------------------------------\u001b[0m",
      "\u001b[0;31mNameError\u001b[0m                                 Traceback (most recent call last)",
      "\u001b[0;32m<ipython-input-13-cf42ce8d0a41>\u001b[0m in \u001b[0;36m<module>\u001b[0;34m\u001b[0m\n\u001b[0;32m----> 1\u001b[0;31m \u001b[0mstate\u001b[0m \u001b[0;34m=\u001b[0m \u001b[0miteration\u001b[0m\u001b[0;34m(\u001b[0m\u001b[0mmodel\u001b[0m\u001b[0;34m,\u001b[0m \u001b[0mtrain_loader\u001b[0m\u001b[0;34m,\u001b[0m \u001b[0mcriterion\u001b[0m\u001b[0;34m,\u001b[0m \u001b[0moptimizer\u001b[0m\u001b[0;34m=\u001b[0m\u001b[0moptimizer\u001b[0m\u001b[0;34m)\u001b[0m\u001b[0;34m\u001b[0m\u001b[0;34m\u001b[0m\u001b[0m\n\u001b[0m",
      "\u001b[0;32m<ipython-input-11-c2d5d048ca75>\u001b[0m in \u001b[0;36miteration\u001b[0;34m(model, loader, criterion, name, isTrain, isConstrain, print_freq, optimizer, epoch)\u001b[0m\n\u001b[1;32m     52\u001b[0m                 data_time=data_time, loss=losses))\n\u001b[1;32m     53\u001b[0m \u001b[0;34m\u001b[0m\u001b[0m\n\u001b[0;32m---> 54\u001b[0;31m     \u001b[0mtotal_softmax\u001b[0m \u001b[0;34m=\u001b[0m \u001b[0mreshape_resulting_array\u001b[0m\u001b[0;34m(\u001b[0m\u001b[0mtotal_softmax\u001b[0m\u001b[0;34m)\u001b[0m\u001b[0;34m\u001b[0m\u001b[0;34m\u001b[0m\u001b[0m\n\u001b[0m\u001b[1;32m     55\u001b[0m     \u001b[0mtotal_labels\u001b[0m \u001b[0;34m=\u001b[0m \u001b[0mnp\u001b[0m\u001b[0;34m.\u001b[0m\u001b[0marray\u001b[0m\u001b[0;34m(\u001b[0m\u001b[0mtotal_labels\u001b[0m\u001b[0;34m)\u001b[0m\u001b[0;34m.\u001b[0m\u001b[0mreshape\u001b[0m\u001b[0;34m(\u001b[0m\u001b[0;34m-\u001b[0m\u001b[0;36m1\u001b[0m\u001b[0;34m)\u001b[0m\u001b[0;34m.\u001b[0m\u001b[0msqueeze\u001b[0m\u001b[0;34m(\u001b[0m\u001b[0;34m)\u001b[0m\u001b[0;34m\u001b[0m\u001b[0;34m\u001b[0m\u001b[0m\n\u001b[1;32m     56\u001b[0m     \u001b[0mtotal_preds\u001b[0m \u001b[0;34m=\u001b[0m \u001b[0mnp\u001b[0m\u001b[0;34m.\u001b[0m\u001b[0marray\u001b[0m\u001b[0;34m(\u001b[0m\u001b[0mtotal_preds\u001b[0m\u001b[0;34m)\u001b[0m\u001b[0;34m.\u001b[0m\u001b[0mreshape\u001b[0m\u001b[0;34m(\u001b[0m\u001b[0;34m-\u001b[0m\u001b[0;36m1\u001b[0m\u001b[0;34m)\u001b[0m\u001b[0;34m.\u001b[0m\u001b[0msqueeze\u001b[0m\u001b[0;34m(\u001b[0m\u001b[0;34m)\u001b[0m\u001b[0;34m\u001b[0m\u001b[0;34m\u001b[0m\u001b[0m\n",
      "\u001b[0;31mNameError\u001b[0m: name 'reshape_resulting_array' is not defined"
     ]
    }
   ],
   "source": [
    "state = iteration(model, train_loader, criterion, optimizer=optimizer)"
   ]
  },
  {
   "cell_type": "code",
   "execution_count": 7,
   "metadata": {},
   "outputs": [
    {
     "data": {
      "text/plain": [
       "<All keys matched successfully>"
      ]
     },
     "execution_count": 7,
     "metadata": {},
     "output_type": "execute_result"
    }
   ],
   "source": [
    "model.load_state_dict(torch.load('mnist.pth'))"
   ]
  },
  {
   "cell_type": "code",
   "execution_count": 4,
   "metadata": {
    "scrolled": true
   },
   "outputs": [
    {
     "name": "stderr",
     "output_type": "stream",
     "text": [
      "/opt/conda/lib/python3.7/site-packages/torch/nn/functional.py:718: UserWarning: Named tensors and all their associated APIs are an experimental feature and subject to change. Please do not use them for anything important until they are released as stable. (Triggered internally at  /pytorch/c10/core/TensorImpl.h:1156.)\n",
      "  return torch.max_pool2d(input, kernel_size, stride, padding, dilation, ceil_mode)\n"
     ]
    },
    {
     "name": "stdout",
     "output_type": "stream",
     "text": [
      " Epoch: [0][0/600]\tTime 0.435 (0.435)\tData 0.407 (0.407)\tLoss 124107.2500 (124107.2500)\t\n",
      " Epoch: [0][200/600]\tTime 0.006 (0.009)\tData 0.000 (0.002)\tLoss 354.4209 (11379.6836)\t\n",
      " Epoch: [0][400/600]\tTime 0.006 (0.008)\tData 0.000 (0.001)\tLoss 50.7685 (5776.6714)\t\n",
      " Epoch: [1][0/600]\tTime 0.391 (0.391)\tData 0.379 (0.379)\tLoss 35.5763 (35.5763)\t\n",
      " Epoch: [1][200/600]\tTime 0.009 (0.009)\tData 0.001 (0.002)\tLoss 6.0891 (26.1717)\t\n",
      " Epoch: [1][400/600]\tTime 0.007 (0.008)\tData 0.000 (0.001)\tLoss 12.7649 (26.1831)\t\n"
     ]
    },
    {
     "name": "stderr",
     "output_type": "stream",
     "text": [
      "Exception ignored in: <function _releaseLock at 0x7fe198a028c0>\n",
      "Traceback (most recent call last):\n",
      "  File \"/opt/conda/lib/python3.7/logging/__init__.py\", line 221, in _releaseLock\n",
      "    def _releaseLock():\n",
      "KeyboardInterrupt\n"
     ]
    },
    {
     "ename": "RuntimeError",
     "evalue": "DataLoader worker (pid(s) 5635, 5636) exited unexpectedly",
     "output_type": "error",
     "traceback": [
      "\u001b[0;31m---------------------------------------------------------------------------\u001b[0m",
      "\u001b[0;31mEmpty\u001b[0m                                     Traceback (most recent call last)",
      "\u001b[0;32m/opt/conda/lib/python3.7/site-packages/torch/utils/data/dataloader.py\u001b[0m in \u001b[0;36m_try_get_data\u001b[0;34m(self, timeout)\u001b[0m\n\u001b[1;32m    989\u001b[0m         \u001b[0;32mtry\u001b[0m\u001b[0;34m:\u001b[0m\u001b[0;34m\u001b[0m\u001b[0;34m\u001b[0m\u001b[0m\n\u001b[0;32m--> 990\u001b[0;31m             \u001b[0mdata\u001b[0m \u001b[0;34m=\u001b[0m \u001b[0mself\u001b[0m\u001b[0;34m.\u001b[0m\u001b[0m_data_queue\u001b[0m\u001b[0;34m.\u001b[0m\u001b[0mget\u001b[0m\u001b[0;34m(\u001b[0m\u001b[0mtimeout\u001b[0m\u001b[0;34m=\u001b[0m\u001b[0mtimeout\u001b[0m\u001b[0;34m)\u001b[0m\u001b[0;34m\u001b[0m\u001b[0;34m\u001b[0m\u001b[0m\n\u001b[0m\u001b[1;32m    991\u001b[0m             \u001b[0;32mreturn\u001b[0m \u001b[0;34m(\u001b[0m\u001b[0;32mTrue\u001b[0m\u001b[0;34m,\u001b[0m \u001b[0mdata\u001b[0m\u001b[0;34m)\u001b[0m\u001b[0;34m\u001b[0m\u001b[0;34m\u001b[0m\u001b[0m\n",
      "\u001b[0;32m/opt/conda/lib/python3.7/queue.py\u001b[0m in \u001b[0;36mget\u001b[0;34m(self, block, timeout)\u001b[0m\n\u001b[1;32m    177\u001b[0m                     \u001b[0;32mif\u001b[0m \u001b[0mremaining\u001b[0m \u001b[0;34m<=\u001b[0m \u001b[0;36m0.0\u001b[0m\u001b[0;34m:\u001b[0m\u001b[0;34m\u001b[0m\u001b[0;34m\u001b[0m\u001b[0m\n\u001b[0;32m--> 178\u001b[0;31m                         \u001b[0;32mraise\u001b[0m \u001b[0mEmpty\u001b[0m\u001b[0;34m\u001b[0m\u001b[0;34m\u001b[0m\u001b[0m\n\u001b[0m\u001b[1;32m    179\u001b[0m                     \u001b[0mself\u001b[0m\u001b[0;34m.\u001b[0m\u001b[0mnot_empty\u001b[0m\u001b[0;34m.\u001b[0m\u001b[0mwait\u001b[0m\u001b[0;34m(\u001b[0m\u001b[0mremaining\u001b[0m\u001b[0;34m)\u001b[0m\u001b[0;34m\u001b[0m\u001b[0;34m\u001b[0m\u001b[0m\n",
      "\u001b[0;31mEmpty\u001b[0m: ",
      "\nThe above exception was the direct cause of the following exception:\n",
      "\u001b[0;31mRuntimeError\u001b[0m                              Traceback (most recent call last)",
      "\u001b[0;32m<ipython-input-4-83c0663df9fc>\u001b[0m in \u001b[0;36m<module>\u001b[0;34m\u001b[0m\n\u001b[1;32m      7\u001b[0m     \u001b[0mlosses\u001b[0m \u001b[0;34m=\u001b[0m \u001b[0mAverageMeter\u001b[0m\u001b[0;34m(\u001b[0m\u001b[0;34m)\u001b[0m\u001b[0;34m\u001b[0m\u001b[0;34m\u001b[0m\u001b[0m\n\u001b[1;32m      8\u001b[0m     \u001b[0mend\u001b[0m \u001b[0;34m=\u001b[0m \u001b[0mtime\u001b[0m\u001b[0;34m.\u001b[0m\u001b[0mtime\u001b[0m\u001b[0;34m(\u001b[0m\u001b[0;34m)\u001b[0m\u001b[0;34m\u001b[0m\u001b[0;34m\u001b[0m\u001b[0m\n\u001b[0;32m----> 9\u001b[0;31m     \u001b[0;32mfor\u001b[0m \u001b[0mi\u001b[0m\u001b[0;34m,\u001b[0m \u001b[0;34m(\u001b[0m\u001b[0mX\u001b[0m\u001b[0;34m,\u001b[0m \u001b[0my\u001b[0m\u001b[0;34m)\u001b[0m \u001b[0;32min\u001b[0m \u001b[0menumerate\u001b[0m\u001b[0;34m(\u001b[0m\u001b[0mtrain_loader\u001b[0m\u001b[0;34m)\u001b[0m\u001b[0;34m:\u001b[0m\u001b[0;34m\u001b[0m\u001b[0;34m\u001b[0m\u001b[0m\n\u001b[0m\u001b[1;32m     10\u001b[0m         \u001b[0mdata_time\u001b[0m\u001b[0;34m.\u001b[0m\u001b[0mupdate\u001b[0m\u001b[0;34m(\u001b[0m\u001b[0mtime\u001b[0m\u001b[0;34m.\u001b[0m\u001b[0mtime\u001b[0m\u001b[0;34m(\u001b[0m\u001b[0;34m)\u001b[0m \u001b[0;34m-\u001b[0m \u001b[0mend\u001b[0m\u001b[0;34m)\u001b[0m\u001b[0;34m\u001b[0m\u001b[0;34m\u001b[0m\u001b[0m\n\u001b[1;32m     11\u001b[0m         \u001b[0;32mif\u001b[0m \u001b[0mtorch\u001b[0m\u001b[0;34m.\u001b[0m\u001b[0mcuda\u001b[0m\u001b[0;34m.\u001b[0m\u001b[0mis_available\u001b[0m\u001b[0;34m(\u001b[0m\u001b[0;34m)\u001b[0m\u001b[0;34m:\u001b[0m\u001b[0;34m\u001b[0m\u001b[0;34m\u001b[0m\u001b[0m\n",
      "\u001b[0;32m/opt/conda/lib/python3.7/site-packages/torch/utils/data/dataloader.py\u001b[0m in \u001b[0;36m__next__\u001b[0;34m(self)\u001b[0m\n\u001b[1;32m    519\u001b[0m             \u001b[0;32mif\u001b[0m \u001b[0mself\u001b[0m\u001b[0;34m.\u001b[0m\u001b[0m_sampler_iter\u001b[0m \u001b[0;32mis\u001b[0m \u001b[0;32mNone\u001b[0m\u001b[0;34m:\u001b[0m\u001b[0;34m\u001b[0m\u001b[0;34m\u001b[0m\u001b[0m\n\u001b[1;32m    520\u001b[0m                 \u001b[0mself\u001b[0m\u001b[0;34m.\u001b[0m\u001b[0m_reset\u001b[0m\u001b[0;34m(\u001b[0m\u001b[0;34m)\u001b[0m\u001b[0;34m\u001b[0m\u001b[0;34m\u001b[0m\u001b[0m\n\u001b[0;32m--> 521\u001b[0;31m             \u001b[0mdata\u001b[0m \u001b[0;34m=\u001b[0m \u001b[0mself\u001b[0m\u001b[0;34m.\u001b[0m\u001b[0m_next_data\u001b[0m\u001b[0;34m(\u001b[0m\u001b[0;34m)\u001b[0m\u001b[0;34m\u001b[0m\u001b[0;34m\u001b[0m\u001b[0m\n\u001b[0m\u001b[1;32m    522\u001b[0m             \u001b[0mself\u001b[0m\u001b[0;34m.\u001b[0m\u001b[0m_num_yielded\u001b[0m \u001b[0;34m+=\u001b[0m \u001b[0;36m1\u001b[0m\u001b[0;34m\u001b[0m\u001b[0;34m\u001b[0m\u001b[0m\n\u001b[1;32m    523\u001b[0m             \u001b[0;32mif\u001b[0m \u001b[0mself\u001b[0m\u001b[0;34m.\u001b[0m\u001b[0m_dataset_kind\u001b[0m \u001b[0;34m==\u001b[0m \u001b[0m_DatasetKind\u001b[0m\u001b[0;34m.\u001b[0m\u001b[0mIterable\u001b[0m \u001b[0;32mand\u001b[0m\u001b[0;31m \u001b[0m\u001b[0;31m\\\u001b[0m\u001b[0;34m\u001b[0m\u001b[0;34m\u001b[0m\u001b[0m\n",
      "\u001b[0;32m/opt/conda/lib/python3.7/site-packages/torch/utils/data/dataloader.py\u001b[0m in \u001b[0;36m_next_data\u001b[0;34m(self)\u001b[0m\n\u001b[1;32m   1184\u001b[0m \u001b[0;34m\u001b[0m\u001b[0m\n\u001b[1;32m   1185\u001b[0m             \u001b[0;32massert\u001b[0m \u001b[0;32mnot\u001b[0m \u001b[0mself\u001b[0m\u001b[0;34m.\u001b[0m\u001b[0m_shutdown\u001b[0m \u001b[0;32mand\u001b[0m \u001b[0mself\u001b[0m\u001b[0;34m.\u001b[0m\u001b[0m_tasks_outstanding\u001b[0m \u001b[0;34m>\u001b[0m \u001b[0;36m0\u001b[0m\u001b[0;34m\u001b[0m\u001b[0;34m\u001b[0m\u001b[0m\n\u001b[0;32m-> 1186\u001b[0;31m             \u001b[0midx\u001b[0m\u001b[0;34m,\u001b[0m \u001b[0mdata\u001b[0m \u001b[0;34m=\u001b[0m \u001b[0mself\u001b[0m\u001b[0;34m.\u001b[0m\u001b[0m_get_data\u001b[0m\u001b[0;34m(\u001b[0m\u001b[0;34m)\u001b[0m\u001b[0;34m\u001b[0m\u001b[0;34m\u001b[0m\u001b[0m\n\u001b[0m\u001b[1;32m   1187\u001b[0m             \u001b[0mself\u001b[0m\u001b[0;34m.\u001b[0m\u001b[0m_tasks_outstanding\u001b[0m \u001b[0;34m-=\u001b[0m \u001b[0;36m1\u001b[0m\u001b[0;34m\u001b[0m\u001b[0;34m\u001b[0m\u001b[0m\n\u001b[1;32m   1188\u001b[0m             \u001b[0;32mif\u001b[0m \u001b[0mself\u001b[0m\u001b[0;34m.\u001b[0m\u001b[0m_dataset_kind\u001b[0m \u001b[0;34m==\u001b[0m \u001b[0m_DatasetKind\u001b[0m\u001b[0;34m.\u001b[0m\u001b[0mIterable\u001b[0m\u001b[0;34m:\u001b[0m\u001b[0;34m\u001b[0m\u001b[0;34m\u001b[0m\u001b[0m\n",
      "\u001b[0;32m/opt/conda/lib/python3.7/site-packages/torch/utils/data/dataloader.py\u001b[0m in \u001b[0;36m_get_data\u001b[0;34m(self)\u001b[0m\n\u001b[1;32m   1140\u001b[0m         \u001b[0;32melif\u001b[0m \u001b[0mself\u001b[0m\u001b[0;34m.\u001b[0m\u001b[0m_pin_memory\u001b[0m\u001b[0;34m:\u001b[0m\u001b[0;34m\u001b[0m\u001b[0;34m\u001b[0m\u001b[0m\n\u001b[1;32m   1141\u001b[0m             \u001b[0;32mwhile\u001b[0m \u001b[0mself\u001b[0m\u001b[0;34m.\u001b[0m\u001b[0m_pin_memory_thread\u001b[0m\u001b[0;34m.\u001b[0m\u001b[0mis_alive\u001b[0m\u001b[0;34m(\u001b[0m\u001b[0;34m)\u001b[0m\u001b[0;34m:\u001b[0m\u001b[0;34m\u001b[0m\u001b[0;34m\u001b[0m\u001b[0m\n\u001b[0;32m-> 1142\u001b[0;31m                 \u001b[0msuccess\u001b[0m\u001b[0;34m,\u001b[0m \u001b[0mdata\u001b[0m \u001b[0;34m=\u001b[0m \u001b[0mself\u001b[0m\u001b[0;34m.\u001b[0m\u001b[0m_try_get_data\u001b[0m\u001b[0;34m(\u001b[0m\u001b[0;34m)\u001b[0m\u001b[0;34m\u001b[0m\u001b[0;34m\u001b[0m\u001b[0m\n\u001b[0m\u001b[1;32m   1143\u001b[0m                 \u001b[0;32mif\u001b[0m \u001b[0msuccess\u001b[0m\u001b[0;34m:\u001b[0m\u001b[0;34m\u001b[0m\u001b[0;34m\u001b[0m\u001b[0m\n\u001b[1;32m   1144\u001b[0m                     \u001b[0;32mreturn\u001b[0m \u001b[0mdata\u001b[0m\u001b[0;34m\u001b[0m\u001b[0;34m\u001b[0m\u001b[0m\n",
      "\u001b[0;32m/opt/conda/lib/python3.7/site-packages/torch/utils/data/dataloader.py\u001b[0m in \u001b[0;36m_try_get_data\u001b[0;34m(self, timeout)\u001b[0m\n\u001b[1;32m   1001\u001b[0m             \u001b[0;32mif\u001b[0m \u001b[0mlen\u001b[0m\u001b[0;34m(\u001b[0m\u001b[0mfailed_workers\u001b[0m\u001b[0;34m)\u001b[0m \u001b[0;34m>\u001b[0m \u001b[0;36m0\u001b[0m\u001b[0;34m:\u001b[0m\u001b[0;34m\u001b[0m\u001b[0;34m\u001b[0m\u001b[0m\n\u001b[1;32m   1002\u001b[0m                 \u001b[0mpids_str\u001b[0m \u001b[0;34m=\u001b[0m \u001b[0;34m', '\u001b[0m\u001b[0;34m.\u001b[0m\u001b[0mjoin\u001b[0m\u001b[0;34m(\u001b[0m\u001b[0mstr\u001b[0m\u001b[0;34m(\u001b[0m\u001b[0mw\u001b[0m\u001b[0;34m.\u001b[0m\u001b[0mpid\u001b[0m\u001b[0;34m)\u001b[0m \u001b[0;32mfor\u001b[0m \u001b[0mw\u001b[0m \u001b[0;32min\u001b[0m \u001b[0mfailed_workers\u001b[0m\u001b[0;34m)\u001b[0m\u001b[0;34m\u001b[0m\u001b[0;34m\u001b[0m\u001b[0m\n\u001b[0;32m-> 1003\u001b[0;31m                 \u001b[0;32mraise\u001b[0m \u001b[0mRuntimeError\u001b[0m\u001b[0;34m(\u001b[0m\u001b[0;34m'DataLoader worker (pid(s) {}) exited unexpectedly'\u001b[0m\u001b[0;34m.\u001b[0m\u001b[0mformat\u001b[0m\u001b[0;34m(\u001b[0m\u001b[0mpids_str\u001b[0m\u001b[0;34m)\u001b[0m\u001b[0;34m)\u001b[0m \u001b[0;32mfrom\u001b[0m \u001b[0me\u001b[0m\u001b[0;34m\u001b[0m\u001b[0;34m\u001b[0m\u001b[0m\n\u001b[0m\u001b[1;32m   1004\u001b[0m             \u001b[0;32mif\u001b[0m \u001b[0misinstance\u001b[0m\u001b[0;34m(\u001b[0m\u001b[0me\u001b[0m\u001b[0;34m,\u001b[0m \u001b[0mqueue\u001b[0m\u001b[0;34m.\u001b[0m\u001b[0mEmpty\u001b[0m\u001b[0;34m)\u001b[0m\u001b[0;34m:\u001b[0m\u001b[0;34m\u001b[0m\u001b[0;34m\u001b[0m\u001b[0m\n\u001b[1;32m   1005\u001b[0m                 \u001b[0;32mreturn\u001b[0m \u001b[0;34m(\u001b[0m\u001b[0;32mFalse\u001b[0m\u001b[0;34m,\u001b[0m \u001b[0;32mNone\u001b[0m\u001b[0;34m)\u001b[0m\u001b[0;34m\u001b[0m\u001b[0;34m\u001b[0m\u001b[0m\n",
      "\u001b[0;31mRuntimeError\u001b[0m: DataLoader worker (pid(s) 5635, 5636) exited unexpectedly"
     ]
    }
   ],
   "source": [
    "print_freq = 200\n",
    "l0 = False\n",
    "\n",
    "for epoch in range(100):\n",
    "    batch_time = AverageMeter()\n",
    "    data_time = AverageMeter()\n",
    "    losses = AverageMeter()\n",
    "    end = time.time()\n",
    "    for i, (X, y) in enumerate(train_loader):\n",
    "        data_time.update(time.time() - end)\n",
    "        if torch.cuda.is_available():\n",
    "            X, y = X.to('cuda:5'), y.to('cuda:5')\n",
    "\n",
    "    #     input_X = torch.autograd.Variable(X)\n",
    "    #     input_X = torch.autograd.Variable(X)\n",
    "\n",
    "        out = model(X)\n",
    "\n",
    "        loss = criterion(out, y)\n",
    "\n",
    "        losses.update(loss.data, X.size(0))\n",
    "\n",
    "        optimizer.zero_grad()\n",
    "        loss.backward()\n",
    "        optimizer.step()\n",
    "        \n",
    "        if l0:\n",
    "            layers = model.layers\n",
    "            for layer in layers:\n",
    "                layer.clamp_params()\n",
    "                \n",
    "        # measure elapsed time\n",
    "        batch_time.update(time.time() - end)\n",
    "        end = time.time()\n",
    "                \n",
    "        if i % print_freq == 0:\n",
    "            print(' Epoch: [{0}][{1}/{2}]\\t'\n",
    "                  'Time {batch_time.val:.3f} ({batch_time.avg:.3f})\\t'\n",
    "                  'Data {data_time.val:.3f} ({data_time.avg:.3f})\\t'\n",
    "                  'Loss {loss.val:.4f} ({loss.avg:.4f})\\t'.format(\n",
    "                epoch, i, len(train_loader), batch_time=batch_time,\n",
    "                data_time=data_time, loss=losses))\n",
    "        \n",
    "            \n",
    "    \n",
    "    "
   ]
  },
  {
   "cell_type": "code",
   "execution_count": 42,
   "metadata": {},
   "outputs": [
    {
     "data": {
      "text/plain": [
       "L0LeNet(\n",
       "  (convs): Sequential(\n",
       "    (conv1): L0Conv2d(1, 32, kernel_size=(5, 5), stride=(1, 1), sparse_ratio=0.0)\n",
       "    (relu1): ReLU()\n",
       "    (maxpool1): MaxPool2d(kernel_size=2, stride=2, padding=0, dilation=1, ceil_mode=False)\n",
       "    (conv2): L0Conv2d(32, 64, kernel_size=(5, 5), stride=(1, 1), sparse_ratio=0.0)\n",
       "    (relu2): ReLU()\n",
       "    (maxpool2): MaxPool2d(kernel_size=2, stride=2, padding=0, dilation=1, ceil_mode=False)\n",
       "  )\n",
       "  (fcs): Sequential(\n",
       "    (fc1): L0Dense(1024 -> 256, sparse_ratio=0.0)\n",
       "    (relu3): ReLU()\n",
       "    (fc2): L0Dense(256 -> 256, sparse_ratio=0.0)\n",
       "    (relu4): ReLU()\n",
       "    (fc3): L0Dense(256 -> 10, sparse_ratio=0.0)\n",
       "  )\n",
       ")"
      ]
     },
     "execution_count": 42,
     "metadata": {},
     "output_type": "execute_result"
    }
   ],
   "source": [
    "isTrain = False\n",
    "\n",
    "model.train() if isTrain else model.eval()"
   ]
  },
  {
   "cell_type": "code",
   "execution_count": 43,
   "metadata": {},
   "outputs": [
    {
     "data": {
      "text/plain": [
       "False"
      ]
     },
     "execution_count": 43,
     "metadata": {},
     "output_type": "execute_result"
    }
   ],
   "source": [
    "model.training"
   ]
  },
  {
   "cell_type": "code",
   "execution_count": 98,
   "metadata": {},
   "outputs": [],
   "source": [
    "from sklearn.metrics import f1_score, accuracy_score, precision_score, recall_score, roc_auc_score\n",
    "from torch.utils.tensorboard import SummaryWriter"
   ]
  },
  {
   "cell_type": "code",
   "execution_count": 46,
   "metadata": {},
   "outputs": [
    {
     "data": {
      "text/plain": [
       "(10000, 10)"
      ]
     },
     "execution_count": 46,
     "metadata": {},
     "output_type": "execute_result"
    }
   ],
   "source": [
    "all_outs"
   ]
  },
  {
   "cell_type": "code",
   "execution_count": null,
   "metadata": {},
   "outputs": [],
   "source": [
    "directory = 'logs/{}/'.format('L0LeNet5')\n",
    "if os.path.exists(directory):\n",
    "    shutil.rmtree(directory)\n",
    "    os.makedirs(directory)\n",
    "else:\n",
    "    os.makedirs(directory)\n",
    "writer = SummaryWriter(directory)"
   ]
  },
  {
   "cell_type": "code",
   "execution_count": null,
   "metadata": {},
   "outputs": [],
   "source": [
    "def save_model(model, path='.'):\n",
    "    net = deepcopy(model)\n",
    "    state = net.cpu().state_dict()\n",
    "    torch.save(state, path)\n",
    "    \n",
    "def save_checkpoint(state, is_best, name, filename='checkpoint.pth.tar'):\n",
    "    \"\"\"Saves checkpoint to disk\"\"\"\n",
    "    directory = \"runs/%s/\" % name\n",
    "    if not os.path.exists(directory):\n",
    "        os.makedirs(directory)\n",
    "    filename = directory + filename\n",
    "    torch.save(state, filename)\n",
    "    if is_best:\n",
    "        shutil.copyfile(filename, 'runs/%s/' % name + 'model_best.pth.tar')"
   ]
  },
  {
   "cell_type": "code",
   "execution_count": null,
   "metadata": {},
   "outputs": [],
   "source": [
    "def preTrain(name='l0Lenet5_pretrain'):\n",
    "    best_valid_loss = 999999\n",
    "    for epoch in range(EPOCH):\n",
    "        train_state = iteration(model, train_loader, criterion, isTrain=True, isConstrain=False, optimizer=optimizer, epoch=epoch)\n",
    "        valid_state = iteration(model, val_loader, criterion, isTrain=False, isConstrain=False, print_freq=10000, epoch=epoch)\n",
    "        \n",
    "        train_loss = train_state['loss']\n",
    "        valid_loss = valid_state['loss']\n",
    "        \n",
    "        if best_valid_loss > valid_loss:\n",
    "            best_valid_loss = valid_loss\n",
    "            isBest = True\n",
    "        \n",
    "        save_checkpoint(train_state, isBest, name + '/train', filename='checkpoint_train.pth.tar')\n",
    "        save_checkpoint(valid_state, isBest, name + '/valid', filename='checkpoint_valid.pth.tar')\n",
    "        \n",
    "        isBest = False\n",
    "            \n",
    "        "
   ]
  },
  {
   "cell_type": "code",
   "execution_count": 134,
   "metadata": {},
   "outputs": [],
   "source": [
    "def accuracy(y_data, p_data, s_data):\n",
    "    \"\"\"Computes the precision@k for the specified values of k\"\"\"\n",
    "    \n",
    "    f1 = f1_score(y_data, p_data, average='micro')\n",
    "    acc = accuracy_score(y_data, p_data)\n",
    "    auc = roc_auc_score(y_data, s_data, multi_class='ovo')\n",
    "    pre = precision_score(y_data, p_data, average='micro')\n",
    "    rec = recall_score(y_data, p_data, average='micro')\n",
    "    \n",
    "    return {\n",
    "        'f1': f1,\n",
    "        'accuracy': acc,\n",
    "        'auc_score': auc,\n",
    "        'precision': pre,\n",
    "        'recall': rec\n",
    "    }\n",
    "\n",
    "\n",
    "def reshape_resulting_array(arr):\n",
    "    if type(arr) is not np.ndarray:\n",
    "        arr = np.array(arr)\n",
    "    return arr.reshape((-1, arr.shape[-1]))"
   ]
  },
  {
   "cell_type": "code",
   "execution_count": 178,
   "metadata": {},
   "outputs": [
    {
     "name": "stderr",
     "output_type": "stream",
     "text": [
      "/opt/conda/lib/python3.7/site-packages/ipykernel_launcher.py:34: UserWarning: Implicit dimension choice for softmax has been deprecated. Change the call to include dim=X as an argument.\n"
     ]
    },
    {
     "name": "stdout",
     "output_type": "stream",
     "text": [
      " Epoch: [0][0/600]\tTime 0.422 (0.422)\tData 0.400 (0.400)\tLoss 0.0000 (0.0000)\t\n",
      " Epoch: [0][100/600]\tTime 0.002 (0.008)\tData 0.000 (0.005)\tLoss 0.0031 (0.0020)\t\n",
      " Epoch: [0][200/600]\tTime 0.003 (0.006)\tData 0.001 (0.004)\tLoss 0.0012 (0.0025)\t\n",
      " Epoch: [0][300/600]\tTime 0.006 (0.005)\tData 0.004 (0.003)\tLoss 0.0000 (0.0023)\t\n",
      " Epoch: [0][400/600]\tTime 0.010 (0.005)\tData 0.007 (0.002)\tLoss 0.0010 (0.0026)\t\n",
      " Epoch: [0][500/600]\tTime 0.003 (0.004)\tData 0.001 (0.002)\tLoss 0.0000 (0.0027)\t\n"
     ]
    }
   ],
   "source": [
    "state = iteration(model, train_loader, criterion, isTrain=False, epoch=0)"
   ]
  },
  {
   "cell_type": "code",
   "execution_count": 182,
   "metadata": {},
   "outputs": [],
   "source": [
    "a = []\n",
    "a.append(state['loss'])"
   ]
  },
  {
   "cell_type": "code",
   "execution_count": 103,
   "metadata": {},
   "outputs": [],
   "source": [
    "def iteration(model, loader, criterion, isTrain=True, isConstrain=False, print_freq=100, optimizer=None, epoch=None):\n",
    "    batch_time = AverageMeter()\n",
    "    data_time = AverageMeter()\n",
    "    losses = AverageMeter()\n",
    "    end = time.time()\n",
    "\n",
    "    all_outs = []\n",
    "    all_labels = []\n",
    "    \n",
    "    model.train() if isTrain else model.eval()\n",
    "\n",
    "    for i, (X, y) in enumerate(val_loader):\n",
    "        data_time.update(time.time() - end)\n",
    "        if torch.cuda.is_available():\n",
    "            X, y = X.to('cuda:5'), y.to('cuda:5')\n",
    "\n",
    "    #     input_X = torch.autograd.Variable(X)\n",
    "    #     input_X = torch.autograd.Variable(X)\n",
    "\n",
    "        out = model(X)\n",
    "\n",
    "        all_outs.append(out.detach().cpu().numpy())\n",
    "        all_labels.append(y.detach().cpu().numpy())\n",
    "\n",
    "        loss = criterion(out, y)\n",
    "\n",
    "        losses.update(loss.data, X.size(0))\n",
    "        \n",
    "        if isTrain:\n",
    "\n",
    "            optimizer.zero_grad()\n",
    "            loss.backward()\n",
    "            optimizer.step()\n",
    "\n",
    "        if isConstrain:\n",
    "            layers = model.layers\n",
    "            for layer in layers:\n",
    "                layer.clamp_params()\n",
    "                \n",
    "                \n",
    "        # get metric\n",
    "        pred = F.softmax(pred)\n",
    "        _, p_data = pred.data.max(dim=1)\n",
    "        s_data, y_data = pred.data.cpu().detach().numpy(), y.data.cpu().detach().numpy()\n",
    "        p_data = p_data.cpu().detach().numpy()        \n",
    "        \n",
    "\n",
    "        # measure elapsed time\n",
    "        batch_time.update(time.time() - end)\n",
    "        end = time.time()\n",
    "        if i % print_freq == 0:\n",
    "            print(' Epoch: [{0}][{1}/{2}]\\t'\n",
    "                  'Time {batch_time.val:.3f} ({batch_time.avg:.3f})\\t'\n",
    "                  'Data {data_time.val:.3f} ({data_time.avg:.3f})\\t'\n",
    "                  'Loss {loss.val:.4f} ({loss.avg:.4f})\\t'.format(\n",
    "                epoch, i, len(train_loader), batch_time=batch_time,\n",
    "                data_time=data_time, loss=losses))\n",
    "    \n",
    "    \n",
    "    \n",
    "    \n",
    "    return losses"
   ]
  },
  {
   "cell_type": "code",
   "execution_count": 157,
   "metadata": {
    "scrolled": true
   },
   "outputs": [
    {
     "name": "stderr",
     "output_type": "stream",
     "text": [
      "/opt/conda/lib/python3.7/site-packages/ipykernel_launcher.py:44: UserWarning: Implicit dimension choice for softmax has been deprecated. Change the call to include dim=X as an argument.\n"
     ]
    },
    {
     "name": "stdout",
     "output_type": "stream",
     "text": [
      " Epoch: [20][0/600]\tTime 0.381 (0.381)\tData 0.374 (0.374)\tLoss 0.0000 (0.0000)\t\n",
      " Epoch: [20][100/600]\tTime 0.002 (0.008)\tData 0.000 (0.005)\tLoss 0.0020 (0.0035)\t\n",
      " Epoch: [20][200/600]\tTime 0.003 (0.005)\tData 0.001 (0.003)\tLoss 0.0000 (0.0027)\t\n",
      " Epoch: [20][300/600]\tTime 0.003 (0.005)\tData 0.001 (0.002)\tLoss 0.0139 (0.0025)\t\n",
      " Epoch: [20][400/600]\tTime 0.004 (0.004)\tData 0.000 (0.002)\tLoss 0.0004 (0.0026)\t\n",
      " Epoch: [20][500/600]\tTime 0.003 (0.004)\tData 0.000 (0.002)\tLoss 0.0004 (0.0026)\t\n"
     ]
    }
   ],
   "source": [
    "isConstrain = False\n",
    "isTrain=False\n",
    "\n",
    "batch_time = AverageMeter()\n",
    "data_time = AverageMeter()\n",
    "losses = AverageMeter()\n",
    "end = time.time()\n",
    "\n",
    "total_softmax = []\n",
    "total_labels = []\n",
    "total_preds = []\n",
    "\n",
    "model.train() if isTrain else model.eval()\n",
    "\n",
    "for i, (X, y) in enumerate(train_loader):\n",
    "    data_time.update(time.time() - end)\n",
    "    if torch.cuda.is_available():\n",
    "        X, y = X.to('cuda:5'), y.to('cuda:5')\n",
    "\n",
    "#     input_X = torch.autograd.Variable(X)\n",
    "#     input_X = torch.autograd.Variable(X)\n",
    "\n",
    "    pred = model(X)\n",
    "\n",
    "#     all_outs.append(out.detach().cpu().numpy())\n",
    "#     all_labels.append(y.detach().cpu().numpy())\n",
    "\n",
    "    loss = criterion(pred, y)\n",
    "\n",
    "    losses.update(loss.data, X.size(0))\n",
    "\n",
    "    if isTrain:\n",
    "\n",
    "        optimizer.zero_grad()\n",
    "        loss.backward()\n",
    "        optimizer.step()\n",
    "\n",
    "    if isConstrain:\n",
    "        layers = model.layers\n",
    "        for layer in layers:\n",
    "            layer.clamp_params()\n",
    "            \n",
    "    # get metric\n",
    "    pred = F.softmax(pred)\n",
    "    _, p_data = pred.data.max(dim=1)\n",
    "    s_data, y_data = pred.data.cpu().detach().numpy(), y.data.cpu().detach().numpy()\n",
    "    p_data = p_data.cpu().detach().numpy()\n",
    "    \n",
    "    total_softmax.append(s_data)\n",
    "    total_labels.append(y_data)\n",
    "    total_preds.append(p_data)\n",
    "\n",
    "    # measure elapsed time\n",
    "    batch_time.update(time.time() - end)\n",
    "    end = time.time()\n",
    "    if i % print_freq == 0:\n",
    "        print(' Epoch: [{0}][{1}/{2}]\\t'\n",
    "              'Time {batch_time.val:.3f} ({batch_time.avg:.3f})\\t'\n",
    "              'Data {data_time.val:.3f} ({data_time.avg:.3f})\\t'\n",
    "              'Loss {loss.val:.4f} ({loss.avg:.4f})\\t'.format(\n",
    "            epoch, i, len(train_loader), batch_time=batch_time,\n",
    "            data_time=data_time, loss=losses))\n",
    "\n",
    "#     if i == 10: break"
   ]
  },
  {
   "cell_type": "code",
   "execution_count": 158,
   "metadata": {},
   "outputs": [],
   "source": [
    "total_softmax = reshape_resulting_array(total_softmax)\n",
    "total_labels = np.array(total_labels).reshape(-1).squeeze()\n",
    "total_preds = np.array(total_preds).reshape(-1).squeeze()"
   ]
  },
  {
   "cell_type": "code",
   "execution_count": 164,
   "metadata": {
    "scrolled": true
   },
   "outputs": [
    {
     "data": {
      "text/plain": [
       "array([0.08898716, 0.09981051, 0.08910993, 0.09161435, 0.08738621,\n",
       "       0.08209218, 0.08894475, 0.09311083, 0.08767661, 0.089401  ],\n",
       "      dtype=float32)"
      ]
     },
     "execution_count": 164,
     "metadata": {},
     "output_type": "execute_result"
    }
   ],
   "source": [
    "total_softmax.var(axis=0)"
   ]
  },
  {
   "cell_type": "code",
   "execution_count": 152,
   "metadata": {},
   "outputs": [],
   "source": [
    "result = accuracy(total_labels, total_preds, total_softmax)"
   ]
  },
  {
   "cell_type": "code",
   "execution_count": null,
   "metadata": {},
   "outputs": [],
   "source": [
    "\n",
    "state = {\n",
    "    'epoch': epoch + 1,\n",
    "    'state_dict': deepcopy(model).cpu().state_dict(),\n",
    "    'optimizer': deepcopy(optimizer).state_dict(),\n",
    "    'results': result\n",
    "}\n",
    "    \n",
    "# save_checkpoint(state, is_best)\n",
    "    \n",
    "if tensorboard:\n",
    "    writer.close()"
   ]
  },
  {
   "cell_type": "code",
   "execution_count": 65,
   "metadata": {},
   "outputs": [
    {
     "data": {
      "text/plain": [
       "torch.Size([10, 100])"
      ]
     },
     "execution_count": 65,
     "metadata": {},
     "output_type": "execute_result"
    }
   ],
   "source": [
    "topk = (1,)\n",
    "maxk = max(topk)\n",
    "\n",
    "out.data.t().shape"
   ]
  },
  {
   "cell_type": "code",
   "execution_count": 22,
   "metadata": {},
   "outputs": [],
   "source": [
    "all_outs = np.array(all_outs).reshape(-1, 10)\n",
    "all_labels = np.array(all_labels).reshape(-1)"
   ]
  },
  {
   "cell_type": "code",
   "execution_count": 26,
   "metadata": {},
   "outputs": [],
   "source": [
    "m = nn.Softmax(dim=1)\n",
    "input = torch.randn(2, 3)\n",
    "output = m(input)"
   ]
  },
  {
   "cell_type": "code",
   "execution_count": 27,
   "metadata": {},
   "outputs": [
    {
     "data": {
      "text/plain": [
       "tensor([[0.2279, 0.4722, 0.2999],\n",
       "        [0.4725, 0.1987, 0.3288]])"
      ]
     },
     "execution_count": 27,
     "metadata": {},
     "output_type": "execute_result"
    }
   ],
   "source": [
    "maxk = max(topk)\n",
    "batch_size = target.size(0)"
   ]
  },
  {
   "cell_type": "code",
   "execution_count": 24,
   "metadata": {},
   "outputs": [
    {
     "data": {
      "text/plain": [
       "array([7, 8, 3, ..., 3, 4, 6])"
      ]
     },
     "execution_count": 24,
     "metadata": {},
     "output_type": "execute_result"
    }
   ],
   "source": [
    "all_labels"
   ]
  },
  {
   "cell_type": "code",
   "execution_count": 15,
   "metadata": {},
   "outputs": [],
   "source": [
    "maxk = max((1,))\n",
    "\n",
    "_, pred = out.data.topk(maxk, 1, True, True)\n",
    "pred.t()"
   ]
  },
  {
   "cell_type": "code",
   "execution_count": null,
   "metadata": {},
   "outputs": [],
   "source": [
    "pred.eq()"
   ]
  },
  {
   "cell_type": "code",
   "execution_count": 21,
   "metadata": {
    "scrolled": true
   },
   "outputs": [
    {
     "ename": "RuntimeError",
     "evalue": "The expanded size of the tensor (1) must match the existing size (100) at non-singleton dimension 1.  Target sizes: [100, 1].  Tensor sizes: [1, 100]",
     "output_type": "error",
     "traceback": [
      "\u001b[0;31m---------------------------------------------------------------------------\u001b[0m",
      "\u001b[0;31mRuntimeError\u001b[0m                              Traceback (most recent call last)",
      "\u001b[0;32m<ipython-input-21-b202ab74047f>\u001b[0m in \u001b[0;36m<module>\u001b[0;34m\u001b[0m\n\u001b[0;32m----> 1\u001b[0;31m \u001b[0mcorrect\u001b[0m \u001b[0;34m=\u001b[0m \u001b[0mpred\u001b[0m\u001b[0;34m.\u001b[0m\u001b[0meq\u001b[0m\u001b[0;34m(\u001b[0m\u001b[0my\u001b[0m\u001b[0;34m.\u001b[0m\u001b[0mdata\u001b[0m\u001b[0;34m.\u001b[0m\u001b[0mview\u001b[0m\u001b[0;34m(\u001b[0m\u001b[0;36m1\u001b[0m\u001b[0;34m,\u001b[0m \u001b[0;34m-\u001b[0m\u001b[0;36m1\u001b[0m\u001b[0;34m)\u001b[0m\u001b[0;34m.\u001b[0m\u001b[0mexpand_as\u001b[0m\u001b[0;34m(\u001b[0m\u001b[0mpred\u001b[0m\u001b[0;34m)\u001b[0m\u001b[0;34m)\u001b[0m\u001b[0;34m\u001b[0m\u001b[0;34m\u001b[0m\u001b[0m\n\u001b[0m",
      "\u001b[0;31mRuntimeError\u001b[0m: The expanded size of the tensor (1) must match the existing size (100) at non-singleton dimension 1.  Target sizes: [100, 1].  Tensor sizes: [1, 100]"
     ]
    }
   ],
   "source": [
    "correct = pred.eq(y.data.view(1, -1).expand_as(pred))"
   ]
  },
  {
   "cell_type": "code",
   "execution_count": 11,
   "metadata": {},
   "outputs": [
    {
     "data": {
      "text/plain": [
       "(tensor([[ 1.6940e+35, -4.0876e+35,  1.5291e+35,  1.2766e+35, -1.1093e+35,\n",
       "           2.1263e+35,  1.5256e+35,  5.6608e+35,  9.3236e+33,  1.3016e+35],\n",
       "         [ 1.6940e+35, -4.0876e+35,  1.5291e+35,  1.2766e+35, -1.1093e+35,\n",
       "           2.1263e+35,  1.5256e+35,  5.6608e+35,  9.3236e+33,  1.3016e+35],\n",
       "         [ 1.6940e+35, -4.0876e+35,  1.5291e+35,  1.2766e+35, -1.1093e+35,\n",
       "           2.1263e+35,  1.5256e+35,  5.6608e+35,  9.3236e+33,  1.3016e+35],\n",
       "         [ 1.6940e+35, -4.0876e+35,  1.5291e+35,  1.2766e+35, -1.1093e+35,\n",
       "           2.1263e+35,  1.5256e+35,  5.6608e+35,  9.3236e+33,  1.3016e+35],\n",
       "         [ 1.6940e+35, -4.0876e+35,  1.5291e+35,  1.2766e+35, -1.1093e+35,\n",
       "           2.1263e+35,  1.5256e+35,  5.6608e+35,  9.3236e+33,  1.3016e+35],\n",
       "         [ 1.6940e+35, -4.0876e+35,  1.5291e+35,  1.2766e+35, -1.1093e+35,\n",
       "           2.1263e+35,  1.5256e+35,  5.6608e+35,  9.3236e+33,  1.3016e+35],\n",
       "         [ 1.6940e+35, -4.0876e+35,  1.5291e+35,  1.2766e+35, -1.1093e+35,\n",
       "           2.1263e+35,  1.5256e+35,  5.6608e+35,  9.3236e+33,  1.3016e+35],\n",
       "         [ 1.6940e+35, -4.0876e+35,  1.5291e+35,  1.2766e+35, -1.1093e+35,\n",
       "           2.1263e+35,  1.5256e+35,  5.6608e+35,  9.3236e+33,  1.3016e+35],\n",
       "         [ 1.6940e+35, -4.0876e+35,  1.5291e+35,  1.2766e+35, -1.1093e+35,\n",
       "           2.1263e+35,  1.5256e+35,  5.6608e+35,  9.3236e+33,  1.3016e+35],\n",
       "         [ 1.6940e+35, -4.0876e+35,  1.5291e+35,  1.2766e+35, -1.1093e+35,\n",
       "           2.1263e+35,  1.5256e+35,  5.6608e+35,  9.3236e+33,  1.3016e+35],\n",
       "         [ 1.6940e+35, -4.0876e+35,  1.5291e+35,  1.2766e+35, -1.1093e+35,\n",
       "           2.1263e+35,  1.5256e+35,  5.6608e+35,  9.3236e+33,  1.3016e+35],\n",
       "         [ 1.6940e+35, -4.0876e+35,  1.5291e+35,  1.2766e+35, -1.1093e+35,\n",
       "           2.1263e+35,  1.5256e+35,  5.6608e+35,  9.3236e+33,  1.3016e+35],\n",
       "         [ 1.6940e+35, -4.0876e+35,  1.5291e+35,  1.2766e+35, -1.1093e+35,\n",
       "           2.1263e+35,  1.5256e+35,  5.6608e+35,  9.3236e+33,  1.3016e+35],\n",
       "         [ 1.6940e+35, -4.0876e+35,  1.5291e+35,  1.2766e+35, -1.1093e+35,\n",
       "           2.1263e+35,  1.5256e+35,  5.6608e+35,  9.3236e+33,  1.3016e+35],\n",
       "         [ 1.6940e+35, -4.0876e+35,  1.5291e+35,  1.2766e+35, -1.1093e+35,\n",
       "           2.1263e+35,  1.5256e+35,  5.6608e+35,  9.3236e+33,  1.3016e+35],\n",
       "         [ 1.6940e+35, -4.0876e+35,  1.5291e+35,  1.2766e+35, -1.1093e+35,\n",
       "           2.1263e+35,  1.5256e+35,  5.6608e+35,  9.3236e+33,  1.3016e+35],\n",
       "         [ 1.6940e+35, -4.0876e+35,  1.5291e+35,  1.2766e+35, -1.1093e+35,\n",
       "           2.1263e+35,  1.5256e+35,  5.6608e+35,  9.3236e+33,  1.3016e+35],\n",
       "         [ 1.6940e+35, -4.0876e+35,  1.5291e+35,  1.2766e+35, -1.1093e+35,\n",
       "           2.1263e+35,  1.5256e+35,  5.6608e+35,  9.3236e+33,  1.3016e+35],\n",
       "         [ 1.6940e+35, -4.0876e+35,  1.5291e+35,  1.2766e+35, -1.1093e+35,\n",
       "           2.1263e+35,  1.5256e+35,  5.6608e+35,  9.3236e+33,  1.3016e+35],\n",
       "         [ 1.6940e+35, -4.0876e+35,  1.5291e+35,  1.2766e+35, -1.1093e+35,\n",
       "           2.1263e+35,  1.5256e+35,  5.6608e+35,  9.3236e+33,  1.3016e+35],\n",
       "         [ 1.6940e+35, -4.0876e+35,  1.5291e+35,  1.2766e+35, -1.1093e+35,\n",
       "           2.1263e+35,  1.5256e+35,  5.6608e+35,  9.3236e+33,  1.3016e+35],\n",
       "         [ 1.6940e+35, -4.0876e+35,  1.5291e+35,  1.2766e+35, -1.1093e+35,\n",
       "           2.1263e+35,  1.5256e+35,  5.6608e+35,  9.3236e+33,  1.3016e+35],\n",
       "         [ 1.6940e+35, -4.0876e+35,  1.5291e+35,  1.2766e+35, -1.1093e+35,\n",
       "           2.1263e+35,  1.5256e+35,  5.6608e+35,  9.3236e+33,  1.3016e+35],\n",
       "         [ 1.6940e+35, -4.0876e+35,  1.5291e+35,  1.2766e+35, -1.1093e+35,\n",
       "           2.1263e+35,  1.5256e+35,  5.6608e+35,  9.3236e+33,  1.3016e+35],\n",
       "         [ 1.6940e+35, -4.0876e+35,  1.5291e+35,  1.2766e+35, -1.1093e+35,\n",
       "           2.1263e+35,  1.5256e+35,  5.6608e+35,  9.3236e+33,  1.3016e+35],\n",
       "         [ 1.6940e+35, -4.0876e+35,  1.5291e+35,  1.2766e+35, -1.1093e+35,\n",
       "           2.1263e+35,  1.5256e+35,  5.6608e+35,  9.3236e+33,  1.3016e+35],\n",
       "         [ 1.6940e+35, -4.0876e+35,  1.5291e+35,  1.2766e+35, -1.1093e+35,\n",
       "           2.1263e+35,  1.5256e+35,  5.6608e+35,  9.3236e+33,  1.3016e+35],\n",
       "         [ 1.6940e+35, -4.0876e+35,  1.5291e+35,  1.2766e+35, -1.1093e+35,\n",
       "           2.1263e+35,  1.5256e+35,  5.6608e+35,  9.3236e+33,  1.3016e+35],\n",
       "         [ 1.6940e+35, -4.0876e+35,  1.5291e+35,  1.2766e+35, -1.1093e+35,\n",
       "           2.1263e+35,  1.5256e+35,  5.6608e+35,  9.3236e+33,  1.3016e+35],\n",
       "         [ 1.6940e+35, -4.0876e+35,  1.5291e+35,  1.2766e+35, -1.1093e+35,\n",
       "           2.1263e+35,  1.5256e+35,  5.6608e+35,  9.3236e+33,  1.3016e+35],\n",
       "         [ 1.6940e+35, -4.0876e+35,  1.5291e+35,  1.2766e+35, -1.1093e+35,\n",
       "           2.1263e+35,  1.5256e+35,  5.6608e+35,  9.3236e+33,  1.3016e+35],\n",
       "         [ 1.6940e+35, -4.0876e+35,  1.5291e+35,  1.2766e+35, -1.1093e+35,\n",
       "           2.1263e+35,  1.5256e+35,  5.6608e+35,  9.3236e+33,  1.3016e+35],\n",
       "         [ 1.6940e+35, -4.0876e+35,  1.5291e+35,  1.2766e+35, -1.1093e+35,\n",
       "           2.1263e+35,  1.5256e+35,  5.6608e+35,  9.3236e+33,  1.3016e+35],\n",
       "         [ 1.6940e+35, -4.0876e+35,  1.5291e+35,  1.2766e+35, -1.1093e+35,\n",
       "           2.1263e+35,  1.5256e+35,  5.6608e+35,  9.3236e+33,  1.3016e+35],\n",
       "         [ 1.6940e+35, -4.0876e+35,  1.5291e+35,  1.2766e+35, -1.1093e+35,\n",
       "           2.1263e+35,  1.5256e+35,  5.6608e+35,  9.3236e+33,  1.3016e+35],\n",
       "         [ 1.6940e+35, -4.0876e+35,  1.5291e+35,  1.2766e+35, -1.1093e+35,\n",
       "           2.1263e+35,  1.5256e+35,  5.6608e+35,  9.3236e+33,  1.3016e+35],\n",
       "         [ 1.6940e+35, -4.0876e+35,  1.5291e+35,  1.2766e+35, -1.1093e+35,\n",
       "           2.1263e+35,  1.5256e+35,  5.6608e+35,  9.3236e+33,  1.3016e+35],\n",
       "         [ 1.6940e+35, -4.0876e+35,  1.5291e+35,  1.2766e+35, -1.1093e+35,\n",
       "           2.1263e+35,  1.5256e+35,  5.6608e+35,  9.3236e+33,  1.3016e+35],\n",
       "         [ 1.6940e+35, -4.0876e+35,  1.5291e+35,  1.2766e+35, -1.1093e+35,\n",
       "           2.1263e+35,  1.5256e+35,  5.6608e+35,  9.3236e+33,  1.3016e+35],\n",
       "         [ 1.6940e+35, -4.0876e+35,  1.5291e+35,  1.2766e+35, -1.1093e+35,\n",
       "           2.1263e+35,  1.5256e+35,  5.6608e+35,  9.3236e+33,  1.3016e+35],\n",
       "         [ 1.6940e+35, -4.0876e+35,  1.5291e+35,  1.2766e+35, -1.1093e+35,\n",
       "           2.1263e+35,  1.5256e+35,  5.6608e+35,  9.3236e+33,  1.3016e+35],\n",
       "         [ 1.6940e+35, -4.0876e+35,  1.5291e+35,  1.2766e+35, -1.1093e+35,\n",
       "           2.1263e+35,  1.5256e+35,  5.6608e+35,  9.3236e+33,  1.3016e+35],\n",
       "         [ 1.6940e+35, -4.0876e+35,  1.5291e+35,  1.2766e+35, -1.1093e+35,\n",
       "           2.1263e+35,  1.5256e+35,  5.6608e+35,  9.3236e+33,  1.3016e+35],\n",
       "         [ 1.6940e+35, -4.0876e+35,  1.5291e+35,  1.2766e+35, -1.1093e+35,\n",
       "           2.1263e+35,  1.5256e+35,  5.6608e+35,  9.3236e+33,  1.3016e+35],\n",
       "         [ 1.6940e+35, -4.0876e+35,  1.5291e+35,  1.2766e+35, -1.1093e+35,\n",
       "           2.1263e+35,  1.5256e+35,  5.6608e+35,  9.3236e+33,  1.3016e+35],\n",
       "         [ 1.6940e+35, -4.0876e+35,  1.5291e+35,  1.2766e+35, -1.1093e+35,\n",
       "           2.1263e+35,  1.5256e+35,  5.6608e+35,  9.3236e+33,  1.3016e+35],\n",
       "         [ 1.6940e+35, -4.0876e+35,  1.5291e+35,  1.2766e+35, -1.1093e+35,\n",
       "           2.1263e+35,  1.5256e+35,  5.6608e+35,  9.3236e+33,  1.3016e+35],\n",
       "         [ 1.6940e+35, -4.0876e+35,  1.5291e+35,  1.2766e+35, -1.1093e+35,\n",
       "           2.1263e+35,  1.5256e+35,  5.6608e+35,  9.3236e+33,  1.3016e+35],\n",
       "         [ 1.6940e+35, -4.0876e+35,  1.5291e+35,  1.2766e+35, -1.1093e+35,\n",
       "           2.1263e+35,  1.5256e+35,  5.6608e+35,  9.3236e+33,  1.3016e+35],\n",
       "         [ 1.6940e+35, -4.0876e+35,  1.5291e+35,  1.2766e+35, -1.1093e+35,\n",
       "           2.1263e+35,  1.5256e+35,  5.6608e+35,  9.3236e+33,  1.3016e+35],\n",
       "         [ 1.6940e+35, -4.0876e+35,  1.5291e+35,  1.2766e+35, -1.1093e+35,\n",
       "           2.1263e+35,  1.5256e+35,  5.6608e+35,  9.3236e+33,  1.3016e+35],\n",
       "         [ 1.6940e+35, -4.0876e+35,  1.5291e+35,  1.2766e+35, -1.1093e+35,\n",
       "           2.1263e+35,  1.5256e+35,  5.6608e+35,  9.3236e+33,  1.3016e+35],\n",
       "         [ 1.6940e+35, -4.0876e+35,  1.5291e+35,  1.2766e+35, -1.1093e+35,\n",
       "           2.1263e+35,  1.5256e+35,  5.6608e+35,  9.3236e+33,  1.3016e+35],\n",
       "         [ 1.6940e+35, -4.0876e+35,  1.5291e+35,  1.2766e+35, -1.1093e+35,\n",
       "           2.1263e+35,  1.5256e+35,  5.6608e+35,  9.3236e+33,  1.3016e+35],\n",
       "         [ 1.6940e+35, -4.0876e+35,  1.5291e+35,  1.2766e+35, -1.1093e+35,\n",
       "           2.1263e+35,  1.5256e+35,  5.6608e+35,  9.3236e+33,  1.3016e+35],\n",
       "         [ 1.6940e+35, -4.0876e+35,  1.5291e+35,  1.2766e+35, -1.1093e+35,\n",
       "           2.1263e+35,  1.5256e+35,  5.6608e+35,  9.3236e+33,  1.3016e+35],\n",
       "         [ 1.6940e+35, -4.0876e+35,  1.5291e+35,  1.2766e+35, -1.1093e+35,\n",
       "           2.1263e+35,  1.5256e+35,  5.6608e+35,  9.3236e+33,  1.3016e+35],\n",
       "         [ 1.6940e+35, -4.0876e+35,  1.5291e+35,  1.2766e+35, -1.1093e+35,\n",
       "           2.1263e+35,  1.5256e+35,  5.6608e+35,  9.3236e+33,  1.3016e+35],\n",
       "         [ 1.6940e+35, -4.0876e+35,  1.5291e+35,  1.2766e+35, -1.1093e+35,\n",
       "           2.1263e+35,  1.5256e+35,  5.6608e+35,  9.3236e+33,  1.3016e+35],\n",
       "         [ 1.6940e+35, -4.0876e+35,  1.5291e+35,  1.2766e+35, -1.1093e+35,\n",
       "           2.1263e+35,  1.5256e+35,  5.6608e+35,  9.3236e+33,  1.3016e+35],\n",
       "         [ 1.6940e+35, -4.0876e+35,  1.5291e+35,  1.2766e+35, -1.1093e+35,\n",
       "           2.1263e+35,  1.5256e+35,  5.6608e+35,  9.3236e+33,  1.3016e+35],\n",
       "         [ 1.6940e+35, -4.0876e+35,  1.5291e+35,  1.2766e+35, -1.1093e+35,\n",
       "           2.1263e+35,  1.5256e+35,  5.6608e+35,  9.3236e+33,  1.3016e+35],\n",
       "         [ 1.6940e+35, -4.0876e+35,  1.5291e+35,  1.2766e+35, -1.1093e+35,\n",
       "           2.1263e+35,  1.5256e+35,  5.6608e+35,  9.3236e+33,  1.3016e+35],\n",
       "         [ 1.6940e+35, -4.0876e+35,  1.5291e+35,  1.2766e+35, -1.1093e+35,\n",
       "           2.1263e+35,  1.5256e+35,  5.6608e+35,  9.3236e+33,  1.3016e+35],\n",
       "         [ 1.6940e+35, -4.0876e+35,  1.5291e+35,  1.2766e+35, -1.1093e+35,\n",
       "           2.1263e+35,  1.5256e+35,  5.6608e+35,  9.3236e+33,  1.3016e+35],\n",
       "         [ 1.6940e+35, -4.0876e+35,  1.5291e+35,  1.2766e+35, -1.1093e+35,\n",
       "           2.1263e+35,  1.5256e+35,  5.6608e+35,  9.3236e+33,  1.3016e+35],\n",
       "         [ 1.6940e+35, -4.0876e+35,  1.5291e+35,  1.2766e+35, -1.1093e+35,\n",
       "           2.1263e+35,  1.5256e+35,  5.6608e+35,  9.3236e+33,  1.3016e+35],\n",
       "         [ 1.6940e+35, -4.0876e+35,  1.5291e+35,  1.2766e+35, -1.1093e+35,\n",
       "           2.1263e+35,  1.5256e+35,  5.6608e+35,  9.3236e+33,  1.3016e+35],\n",
       "         [ 1.6940e+35, -4.0876e+35,  1.5291e+35,  1.2766e+35, -1.1093e+35,\n",
       "           2.1263e+35,  1.5256e+35,  5.6608e+35,  9.3236e+33,  1.3016e+35],\n",
       "         [ 1.6940e+35, -4.0876e+35,  1.5291e+35,  1.2766e+35, -1.1093e+35,\n",
       "           2.1263e+35,  1.5256e+35,  5.6608e+35,  9.3236e+33,  1.3016e+35],\n",
       "         [ 1.6940e+35, -4.0876e+35,  1.5291e+35,  1.2766e+35, -1.1093e+35,\n",
       "           2.1263e+35,  1.5256e+35,  5.6608e+35,  9.3236e+33,  1.3016e+35],\n",
       "         [ 1.6940e+35, -4.0876e+35,  1.5291e+35,  1.2766e+35, -1.1093e+35,\n",
       "           2.1263e+35,  1.5256e+35,  5.6608e+35,  9.3236e+33,  1.3016e+35],\n",
       "         [ 1.6940e+35, -4.0876e+35,  1.5291e+35,  1.2766e+35, -1.1093e+35,\n",
       "           2.1263e+35,  1.5256e+35,  5.6608e+35,  9.3236e+33,  1.3016e+35],\n",
       "         [ 1.6940e+35, -4.0876e+35,  1.5291e+35,  1.2766e+35, -1.1093e+35,\n",
       "           2.1263e+35,  1.5256e+35,  5.6608e+35,  9.3236e+33,  1.3016e+35],\n",
       "         [ 1.6940e+35, -4.0876e+35,  1.5291e+35,  1.2766e+35, -1.1093e+35,\n",
       "           2.1263e+35,  1.5256e+35,  5.6608e+35,  9.3236e+33,  1.3016e+35],\n",
       "         [ 1.6940e+35, -4.0876e+35,  1.5291e+35,  1.2766e+35, -1.1093e+35,\n",
       "           2.1263e+35,  1.5256e+35,  5.6608e+35,  9.3236e+33,  1.3016e+35],\n",
       "         [ 1.6940e+35, -4.0876e+35,  1.5291e+35,  1.2766e+35, -1.1093e+35,\n",
       "           2.1263e+35,  1.5256e+35,  5.6608e+35,  9.3236e+33,  1.3016e+35],\n",
       "         [ 1.6940e+35, -4.0876e+35,  1.5291e+35,  1.2766e+35, -1.1093e+35,\n",
       "           2.1263e+35,  1.5256e+35,  5.6608e+35,  9.3236e+33,  1.3016e+35],\n",
       "         [ 1.6940e+35, -4.0876e+35,  1.5291e+35,  1.2766e+35, -1.1093e+35,\n",
       "           2.1263e+35,  1.5256e+35,  5.6608e+35,  9.3236e+33,  1.3016e+35],\n",
       "         [ 1.6940e+35, -4.0876e+35,  1.5291e+35,  1.2766e+35, -1.1093e+35,\n",
       "           2.1263e+35,  1.5256e+35,  5.6608e+35,  9.3236e+33,  1.3016e+35],\n",
       "         [ 1.6940e+35, -4.0876e+35,  1.5291e+35,  1.2766e+35, -1.1093e+35,\n",
       "           2.1263e+35,  1.5256e+35,  5.6608e+35,  9.3236e+33,  1.3016e+35],\n",
       "         [ 1.6940e+35, -4.0876e+35,  1.5291e+35,  1.2766e+35, -1.1093e+35,\n",
       "           2.1263e+35,  1.5256e+35,  5.6608e+35,  9.3236e+33,  1.3016e+35],\n",
       "         [ 1.6940e+35, -4.0876e+35,  1.5291e+35,  1.2766e+35, -1.1093e+35,\n",
       "           2.1263e+35,  1.5256e+35,  5.6608e+35,  9.3236e+33,  1.3016e+35],\n",
       "         [ 1.6940e+35, -4.0876e+35,  1.5291e+35,  1.2766e+35, -1.1093e+35,\n",
       "           2.1263e+35,  1.5256e+35,  5.6608e+35,  9.3236e+33,  1.3016e+35],\n",
       "         [ 1.6940e+35, -4.0876e+35,  1.5291e+35,  1.2766e+35, -1.1093e+35,\n",
       "           2.1263e+35,  1.5256e+35,  5.6608e+35,  9.3236e+33,  1.3016e+35],\n",
       "         [ 1.6940e+35, -4.0876e+35,  1.5291e+35,  1.2766e+35, -1.1093e+35,\n",
       "           2.1263e+35,  1.5256e+35,  5.6608e+35,  9.3236e+33,  1.3016e+35],\n",
       "         [ 1.6940e+35, -4.0876e+35,  1.5291e+35,  1.2766e+35, -1.1093e+35,\n",
       "           2.1263e+35,  1.5256e+35,  5.6608e+35,  9.3236e+33,  1.3016e+35],\n",
       "         [ 1.6940e+35, -4.0876e+35,  1.5291e+35,  1.2766e+35, -1.1093e+35,\n",
       "           2.1263e+35,  1.5256e+35,  5.6608e+35,  9.3236e+33,  1.3016e+35],\n",
       "         [ 1.6940e+35, -4.0876e+35,  1.5291e+35,  1.2766e+35, -1.1093e+35,\n",
       "           2.1263e+35,  1.5256e+35,  5.6608e+35,  9.3236e+33,  1.3016e+35],\n",
       "         [ 1.6940e+35, -4.0876e+35,  1.5291e+35,  1.2766e+35, -1.1093e+35,\n",
       "           2.1263e+35,  1.5256e+35,  5.6608e+35,  9.3236e+33,  1.3016e+35],\n",
       "         [ 1.6940e+35, -4.0876e+35,  1.5291e+35,  1.2766e+35, -1.1093e+35,\n",
       "           2.1263e+35,  1.5256e+35,  5.6608e+35,  9.3236e+33,  1.3016e+35],\n",
       "         [ 1.6940e+35, -4.0876e+35,  1.5291e+35,  1.2766e+35, -1.1093e+35,\n",
       "           2.1263e+35,  1.5256e+35,  5.6608e+35,  9.3236e+33,  1.3016e+35],\n",
       "         [ 1.6940e+35, -4.0876e+35,  1.5291e+35,  1.2766e+35, -1.1093e+35,\n",
       "           2.1263e+35,  1.5256e+35,  5.6608e+35,  9.3236e+33,  1.3016e+35],\n",
       "         [ 1.6940e+35, -4.0876e+35,  1.5291e+35,  1.2766e+35, -1.1093e+35,\n",
       "           2.1263e+35,  1.5256e+35,  5.6608e+35,  9.3236e+33,  1.3016e+35],\n",
       "         [ 1.6940e+35, -4.0876e+35,  1.5291e+35,  1.2766e+35, -1.1093e+35,\n",
       "           2.1263e+35,  1.5256e+35,  5.6608e+35,  9.3236e+33,  1.3016e+35],\n",
       "         [ 1.6940e+35, -4.0876e+35,  1.5291e+35,  1.2766e+35, -1.1093e+35,\n",
       "           2.1263e+35,  1.5256e+35,  5.6608e+35,  9.3236e+33,  1.3016e+35],\n",
       "         [ 1.6940e+35, -4.0876e+35,  1.5291e+35,  1.2766e+35, -1.1093e+35,\n",
       "           2.1263e+35,  1.5256e+35,  5.6608e+35,  9.3236e+33,  1.3016e+35],\n",
       "         [ 1.6940e+35, -4.0876e+35,  1.5291e+35,  1.2766e+35, -1.1093e+35,\n",
       "           2.1263e+35,  1.5256e+35,  5.6608e+35,  9.3236e+33,  1.3016e+35],\n",
       "         [ 1.6940e+35, -4.0876e+35,  1.5291e+35,  1.2766e+35, -1.1093e+35,\n",
       "           2.1263e+35,  1.5256e+35,  5.6608e+35,  9.3236e+33,  1.3016e+35],\n",
       "         [ 1.6940e+35, -4.0876e+35,  1.5291e+35,  1.2766e+35, -1.1093e+35,\n",
       "           2.1263e+35,  1.5256e+35,  5.6608e+35,  9.3236e+33,  1.3016e+35]],\n",
       "        device='cuda:5'),\n",
       " tensor([4, 4, 7, 8, 8, 4, 7, 6, 3, 8, 9, 6, 5, 2, 1, 1, 7, 9, 5, 6, 3, 5, 6, 1,\n",
       "         5, 7, 4, 9, 1, 4, 5, 8, 4, 9, 7, 5, 7, 8, 3, 1, 2, 9, 4, 6, 3, 6, 7, 0,\n",
       "         5, 0, 0, 5, 2, 2, 1, 8, 3, 6, 2, 3, 6, 9, 5, 0, 7, 8, 1, 0, 5, 2, 9, 6,\n",
       "         0, 1, 9, 9, 4, 3, 6, 1, 7, 8, 0, 4, 9, 5, 9, 7, 3, 9, 1, 3, 9, 1, 2, 3,\n",
       "         6, 7, 2, 8], device='cuda:5'))"
      ]
     },
     "execution_count": 11,
     "metadata": {},
     "output_type": "execute_result"
    }
   ],
   "source": [
    "out.data, y.data"
   ]
  },
  {
   "cell_type": "code",
   "execution_count": 9,
   "metadata": {},
   "outputs": [
    {
     "data": {
      "text/plain": [
       "tensor(4.6398e+35, device='cuda:5', grad_fn=<NllLossBackward>)"
      ]
     },
     "execution_count": 9,
     "metadata": {},
     "output_type": "execute_result"
    }
   ],
   "source": [
    "loss"
   ]
  },
  {
   "cell_type": "code",
   "execution_count": null,
   "metadata": {},
   "outputs": [],
   "source": []
  },
  {
   "cell_type": "code",
   "execution_count": 3,
   "metadata": {},
   "outputs": [],
   "source": [
    "batch_size = 20\n",
    "\n",
    "# parameters\n",
    "num_classes = 10\n",
    "input_size = (1, 28, 28)\n",
    "conv_dims = [32, 64]\n",
    "fc_dims = [256, 10]\n",
    "kernel_sizes = [5, 5]\n",
    "layer_sparsity = [0.3, 0.3, 0.2, 0.2]"
   ]
  },
  {
   "cell_type": "code",
   "execution_count": 4,
   "metadata": {},
   "outputs": [
    {
     "data": {
      "text/plain": [
       "L0LeNet(\n",
       "  (convs): Sequential(\n",
       "    (conv1): L0Conv2d(1, 32, kernel_size=(5, 5), stride=(1, 1), sparse_ratio=0.0)\n",
       "    (relu1): ReLU()\n",
       "    (maxpool1): MaxPool2d(kernel_size=2, stride=2, padding=0, dilation=1, ceil_mode=False)\n",
       "    (conv2): L0Conv2d(32, 64, kernel_size=(5, 5), stride=(1, 1), sparse_ratio=0.0)\n",
       "    (relu2): ReLU()\n",
       "    (maxpool2): MaxPool2d(kernel_size=2, stride=2, padding=0, dilation=1, ceil_mode=False)\n",
       "  )\n",
       "  (fcs): Sequential(\n",
       "    (fc1): L0Dense(1024 -> 256, sparse_ratio=0.0)\n",
       "    (relu3): ReLU()\n",
       "    (fc2): L0Dense(256 -> 256, sparse_ratio=0.0)\n",
       "    (relu4): ReLU()\n",
       "    (fc3): L0Dense(256 -> 10, sparse_ratio=0.0)\n",
       "  )\n",
       ")"
      ]
     },
     "execution_count": 4,
     "metadata": {},
     "output_type": "execute_result"
    }
   ],
   "source": [
    "model.train()"
   ]
  },
  {
   "cell_type": "code",
   "execution_count": 5,
   "metadata": {},
   "outputs": [
    {
     "name": "stderr",
     "output_type": "stream",
     "text": [
      "/opt/conda/lib/python3.7/site-packages/torch/nn/functional.py:718: UserWarning: Named tensors and all their associated APIs are an experimental feature and subject to change. Please do not use them for anything important until they are released as stable. (Triggered internally at  /pytorch/c10/core/TensorImpl.h:1156.)\n",
      "  return torch.max_pool2d(input, kernel_size, stride, padding, dilation, ceil_mode)\n"
     ]
    }
   ],
   "source": [
    "input_ = torch.randn((20, input_size[0], input_size[1], input_size[2]), device=device) # Input: (N, C_{in}, H_{in}, W_{in})\n",
    "out = model(input_)"
   ]
  },
  {
   "cell_type": "code",
   "execution_count": 8,
   "metadata": {},
   "outputs": [
    {
     "data": {
      "text/plain": [
       "tensor([ 2.9340e+28,  1.2130e+28, -1.0965e+28,  6.2782e+27,  1.4191e+28,\n",
       "         9.2325e+27, -9.3407e+27,  2.6250e+27,  9.4843e+27,  1.9932e+28],\n",
       "       device='cuda:5', grad_fn=<SelectBackward>)"
      ]
     },
     "execution_count": 8,
     "metadata": {},
     "output_type": "execute_result"
    }
   ],
   "source": [
    "out[0]"
   ]
  },
  {
   "cell_type": "code",
   "execution_count": null,
   "metadata": {},
   "outputs": [],
   "source": []
  },
  {
   "cell_type": "code",
   "execution_count": 21,
   "metadata": {},
   "outputs": [],
   "source": [
    "batch_size = 20\n",
    "\n",
    "# parameters\n",
    "num_classes = 10\n",
    "input_size = (1, 28, 28)\n",
    "conv_dims = [32, 64]\n",
    "fc_dims = [256, 10]\n",
    "kernel_sizes = [5, 5]\n",
    "layer_sparsity = [0.3, 0.3, 0.2, 0.2]\n",
    "\n",
    "device = 'cuda:5'\n",
    "\n",
    "isTrain = True\n",
    "\n",
    "# model structure\n",
    "convs = OrderedDict([\n",
    "    ('conv1', L0Conv2d(input_size[0], conv_dims[0], kernel_sizes[0], sparse_ratio=layer_sparsity[0], device=device)),\n",
    "    ('relu1', nn.ReLU()),\n",
    "    ('maxpool1',nn.MaxPool2d(2)),\n",
    "    ('conv2', L0Conv2d(conv_dims[0], conv_dims[1], kernel_sizes[1], sparse_ratio=layer_sparsity[1], device=device)),\n",
    "    ('relu2', nn.ReLU()),\n",
    "    ('maxpool2',nn.MaxPool2d(2)),\n",
    "])\n",
    "\n",
    "convs = nn.Sequential(convs)\n",
    "\n",
    "h_out = lambda: int(convs.conv2.h_out((convs.conv1.h_out(input_size[1]) / 2)) / 2)\n",
    "w_out = lambda: int(convs.conv2.w_out((convs.conv1.w_out(input_size[1]) / 2)) / 2)\n",
    "output_len = conv_dims[-1] * h_out() * w_out()\n",
    "\n",
    "if torch.cuda.is_available():\n",
    "    convs = convs.to(device)\n",
    "\n",
    "fcs = OrderedDict([\n",
    "    ('fc1', L0Dense(output_len, fc_dims[0], sparse_ratio=layer_sparsity[2], device=device)),\n",
    "    ('relu3', nn.ReLU()),\n",
    "    ('fc2', L0Dense(fc_dims[0], fc_dims[1], sparse_ratio=layer_sparsity[3], device=device))\n",
    "])\n",
    "fcs = nn.Sequential(fcs)\n",
    "\n",
    "if torch.cuda.is_available():\n",
    "    fcs = fcs.to(device)"
   ]
  },
  {
   "cell_type": "code",
   "execution_count": 28,
   "metadata": {},
   "outputs": [
    {
     "data": {
      "text/plain": [
       "True"
      ]
     },
     "execution_count": 28,
     "metadata": {},
     "output_type": "execute_result"
    }
   ],
   "source": [
    "convs.conv1.training"
   ]
  },
  {
   "cell_type": "code",
   "execution_count": 22,
   "metadata": {},
   "outputs": [
    {
     "name": "stdout",
     "output_type": "stream",
     "text": [
      "conv1.weights cuda:5\n",
      "conv1.bias cuda:5\n",
      "conv2.weights cuda:5\n",
      "conv2.bias cuda:5\n"
     ]
    }
   ],
   "source": [
    "for name,param in convs.named_parameters():\n",
    "    print(name, param.device)"
   ]
  },
  {
   "cell_type": "code",
   "execution_count": 23,
   "metadata": {},
   "outputs": [],
   "source": [
    "import torch.profiler as profiler"
   ]
  },
  {
   "cell_type": "code",
   "execution_count": 24,
   "metadata": {
    "scrolled": true
   },
   "outputs": [],
   "source": [
    "input_ = torch.randn((20, input_size[0], input_size[1], input_size[2]), device=device) # Input: (N, C_{in}, H_{in}, W_{in})\n",
    "out = convs(input_)\n",
    "out = out.view(out.shape[0], -1)\n",
    "out = fcs(out)"
   ]
  },
  {
   "cell_type": "code",
   "execution_count": 1,
   "metadata": {},
   "outputs": [],
   "source": [
    "import torch\n",
    "import math\n",
    "import torch.nn.functional as F\n",
    "from torch import Tensor\n",
    "from torch.nn.modules import Module\n",
    "from torch.nn.parameter import Parameter\n",
    "from torch.nn.modules.utils import _pair as pair\n",
    "from torch.autograd import Variable\n",
    "from torch.nn import init\n",
    "\n",
    "import numpy as np\n",
    "import pandas as pd\n",
    "\n",
    "import matplotlib.pyplot as plt"
   ]
  },
  {
   "cell_type": "code",
   "execution_count": null,
   "metadata": {},
   "outputs": [],
   "source": [
    "torch.__version__"
   ]
  },
  {
   "cell_type": "code",
   "execution_count": 2,
   "metadata": {},
   "outputs": [],
   "source": [
    "h_out = lambda h_in, padding, dilation, kernel_size, stride: np.floor((h_in + 2 * padding[0] - dilation[0] * (kernel_size[0] - 1) - 1)/stride[0] + 1)\n",
    "w_out = lambda w_in, padding, dilation, kernel_size, stride: np.floor((w_in + 2 * padding[1] - dilation[1] * (kernel_size[1] - 1) - 1)/stride[1] + 1)"
   ]
  },
  {
   "cell_type": "code",
   "execution_count": 109,
   "metadata": {},
   "outputs": [],
   "source": [
    "batch_size = 20\n",
    "c_in = 1\n",
    "c_out = 16\n",
    "h_in = 28\n",
    "w_in = 28\n",
    "stride, padding, dilation = 1, pair(2), 1\n",
    "groups = 1\n",
    "kernel_size = pair(5)\n",
    "\n",
    "\n",
    "input_ = torch.randn((batch_size, c_in, h_in, w_in)) # Input: (N, C_{in}, H_{in}, W_{in})\n",
    "weights = Parameter(torch.Tensor(c_out, c_in // groups, *kernel_size))\n",
    "qz_loga = Parameter(torch.Tensor(c_out))\n",
    "bias = Parameter(torch.Tensor(c_out))\n",
    "\n",
    "\n",
    "\n",
    "out = F.conv2d(input_, weights, bias, stride, padding, dilation, groups)\n",
    "\n",
    "\n"
   ]
  },
  {
   "cell_type": "code",
   "execution_count": 108,
   "metadata": {},
   "outputs": [],
   "source": [
    "fc_input_ = torch.randn((batch_size, 1024)) # Input: (N, C_{in}, H_{in}, W_{in})"
   ]
  },
  {
   "cell_type": "code",
   "execution_count": 111,
   "metadata": {},
   "outputs": [
    {
     "data": {
      "text/plain": [
       "torch.Size([20, 1024])"
      ]
     },
     "execution_count": 111,
     "metadata": {},
     "output_type": "execute_result"
    }
   ],
   "source": [
    "fc_input_.shape"
   ]
  },
  {
   "cell_type": "code",
   "execution_count": 112,
   "metadata": {},
   "outputs": [],
   "source": [
    "fc_weights = Parameter(torch.Tensor(1024, 256))\n",
    "\n",
    "output = fc_input_.mm(fc_weights)"
   ]
  },
  {
   "cell_type": "code",
   "execution_count": 113,
   "metadata": {},
   "outputs": [
    {
     "data": {
      "text/plain": [
       "tensor([[ 0.0000e+00,  0.0000e+00, -1.3298e-41,  ...,  0.0000e+00,\n",
       "          0.0000e+00,  0.0000e+00],\n",
       "        [ 0.0000e+00,  0.0000e+00,  1.3103e-40,  ...,  0.0000e+00,\n",
       "          0.0000e+00,  0.0000e+00],\n",
       "        [ 0.0000e+00,  0.0000e+00, -1.4917e-41,  ...,  0.0000e+00,\n",
       "          0.0000e+00,  0.0000e+00],\n",
       "        ...,\n",
       "        [ 0.0000e+00,  0.0000e+00, -2.5987e-40,  ...,  0.0000e+00,\n",
       "          0.0000e+00,  0.0000e+00],\n",
       "        [ 0.0000e+00,  0.0000e+00, -8.9602e-41,  ...,  0.0000e+00,\n",
       "          0.0000e+00,  0.0000e+00],\n",
       "        [ 0.0000e+00,  0.0000e+00,  1.5021e-40,  ...,  0.0000e+00,\n",
       "          0.0000e+00,  0.0000e+00]], grad_fn=<MmBackward>)"
      ]
     },
     "execution_count": 113,
     "metadata": {},
     "output_type": "execute_result"
    }
   ],
   "source": [
    "output.add_(bias)"
   ]
  },
  {
   "cell_type": "code",
   "execution_count": 96,
   "metadata": {},
   "outputs": [
    {
     "data": {
      "text/plain": [
       "Parameter containing:\n",
       "tensor([ 0.0000e+00,  0.0000e+00,  0.0000e+00,  0.0000e+00, -2.3447e+08,\n",
       "         3.0732e-41,  0.0000e+00,  0.0000e+00,  0.0000e+00,  0.0000e+00,\n",
       "         0.0000e+00,  0.0000e+00,  0.0000e+00,  0.0000e+00,  0.0000e+00,\n",
       "         0.0000e+00], requires_grad=True)"
      ]
     },
     "execution_count": 96,
     "metadata": {},
     "output_type": "execute_result"
    }
   ],
   "source": [
    "init.kaiming_normal_(weights, mode='fan_in')\n",
    "qz_loga.data.normal_(math.log(1 - 0.5) - math.log(0.5), 1e-2)\n",
    "\n",
    "floatTensor = torch.FloatTensor\n",
    "\n",
    "temparature = 2/3\n",
    "\n",
    "qz_loga = Parameter(torch.Tensor(c_out))\n",
    "\n",
    "qz_loga"
   ]
  },
  {
   "cell_type": "code",
   "execution_count": 97,
   "metadata": {},
   "outputs": [
    {
     "data": {
      "text/plain": [
       "torch.Size([16, 1, 5, 5])"
      ]
     },
     "execution_count": 97,
     "metadata": {},
     "output_type": "execute_result"
    }
   ],
   "source": [
    "weights.shape"
   ]
  },
  {
   "cell_type": "code",
   "execution_count": 98,
   "metadata": {},
   "outputs": [],
   "source": [
    "percent = 0.9\n",
    "\n",
    "percentile = lambda weights, percent : weights.abs().view(-1).sort()[0][int((percent)*weights.abs().view(-1).shape[0])].detach().cpu().numpy().tolist()\n",
    "lamb = percentile(weights, percent)"
   ]
  },
  {
   "cell_type": "code",
   "execution_count": 99,
   "metadata": {},
   "outputs": [],
   "source": [
    "mask = torch.ones(c_out, c_in // groups, *kernel_size)\n",
    "\n",
    "mask[torch.abs(weights) <= lamb] = 0"
   ]
  },
  {
   "cell_type": "code",
   "execution_count": 102,
   "metadata": {},
   "outputs": [],
   "source": [
    "with torch.no_grad():\n",
    "    w = weights * mask"
   ]
  },
  {
   "cell_type": "code",
   "execution_count": 105,
   "metadata": {},
   "outputs": [],
   "source": [
    "weights.data = w"
   ]
  },
  {
   "cell_type": "code",
   "execution_count": 100,
   "metadata": {},
   "outputs": [],
   "source": [
    "limit_a, limit_b, epsilon = -.1, 1.1, 1e-6\n",
    "\n",
    "def quantile_concrete(x):\n",
    "    y = F.sigmoid((torch.log(x) - torch.log(1-x) + qz_loga / temparature))\n",
    "    return y * (limit_b - limit_a) + limit_a\n",
    "    \n",
    "def get_eps(size):\n",
    "    eps = floatTensor(size).uniform_(epsilon, 1 - epsilon)\n",
    "    eps = Variable(eps)\n",
    "    return eps\n",
    "\n",
    "def sample_weights():\n",
    "    z = quantile_concrete(get_eps(floatTensor(c_out))).view(c_out, 1, 1, 1)\n",
    "    return F.hardtanh(z, min_val=0, max_val=1) * weights"
   ]
  },
  {
   "cell_type": "code",
   "execution_count": 101,
   "metadata": {},
   "outputs": [],
   "source": [
    "weight = sample_weights()"
   ]
  },
  {
   "cell_type": "code",
   "execution_count": 102,
   "metadata": {},
   "outputs": [],
   "source": [
    "z = quantile_concrete(get_eps(floatTensor(c_out))).view(c_out, 1, 1, 1)"
   ]
  },
  {
   "cell_type": "code",
   "execution_count": 105,
   "metadata": {},
   "outputs": [
    {
     "data": {
      "text/plain": [
       "tensor([[[[ 3.2145e-02, -1.6856e-02,  2.5339e-03,  3.4270e-02,  1.3390e-02],\n",
       "          [-1.4876e-02,  2.2128e-03, -3.7560e-03, -1.9444e-02,  3.0503e-02],\n",
       "          [-1.4897e-02, -2.4890e-02, -1.5467e-02,  1.0234e-02, -1.4522e-02],\n",
       "          [ 7.1167e-03,  7.5601e-02, -4.8880e-02, -1.1894e-02, -5.5404e-02],\n",
       "          [-7.8016e-03, -1.4512e-02,  1.0577e-02,  3.4400e-02,  2.4251e-02]]],\n",
       "\n",
       "\n",
       "        [[[ 1.1988e-01, -1.5932e-01,  2.9719e-01, -5.7669e-01, -1.4538e-01],\n",
       "          [-1.4460e-01, -1.2509e-01, -1.0263e-01, -1.7746e-01,  1.5996e-01],\n",
       "          [ 1.9651e-01,  2.3964e-01, -8.7329e-02, -6.7641e-02, -3.8525e-02],\n",
       "          [-1.7603e-05,  1.3579e-01,  1.1784e-03, -3.8781e-02, -1.7390e-01],\n",
       "          [ 1.0882e-02,  2.3507e-01, -1.3571e-01,  8.4861e-02,  1.0216e-01]]],\n",
       "\n",
       "\n",
       "        [[[ 2.4764e-01,  1.9106e-01, -2.1197e-01,  2.6561e-01,  1.3764e-02],\n",
       "          [-3.5268e-02, -6.4513e-02, -4.0616e-02, -3.0495e-01,  6.5706e-01],\n",
       "          [-3.8560e-01, -4.1955e-01, -5.1063e-02,  2.3522e-01,  6.5172e-01],\n",
       "          [ 1.9201e-01, -1.9036e-02,  2.0766e-01,  3.6589e-01, -1.7018e-02],\n",
       "          [ 1.0617e-01,  4.7131e-01,  5.3112e-01,  4.0135e-01, -1.4012e-01]]],\n",
       "\n",
       "\n",
       "        [[[ 2.9257e-02, -1.7199e-01, -1.9008e-01,  4.5838e-03,  2.2563e-01],\n",
       "          [-1.7656e-02, -1.9062e-01, -2.3813e-01,  1.7170e-01,  3.8620e-03],\n",
       "          [ 6.7700e-04, -6.9228e-02,  7.0368e-02,  1.6240e-02,  1.3672e-01],\n",
       "          [-8.4934e-02,  6.9551e-02,  1.1948e-01,  8.5831e-02, -4.7584e-01],\n",
       "          [-2.7839e-01, -1.8268e-01,  2.6795e-02, -1.6977e-03,  1.2566e-01]]],\n",
       "\n",
       "\n",
       "        [[[-4.8591e-02,  1.7456e-01,  1.6018e-01,  7.1339e-02,  4.2645e-02],\n",
       "          [ 1.5045e-01,  4.5612e-02,  1.4990e-01, -7.7313e-02, -3.2217e-01],\n",
       "          [ 4.2207e-02, -1.9536e-01, -1.8717e-01, -1.5591e-01,  1.2950e-02],\n",
       "          [-3.3135e-03,  4.9168e-02, -2.3072e-02,  4.4834e-02, -2.3827e-01],\n",
       "          [ 9.0038e-02, -2.7092e-02,  2.3143e-01, -8.6606e-02,  4.4498e-02]]],\n",
       "\n",
       "\n",
       "        [[[ 1.8612e-02,  2.1045e-01,  6.0194e-02, -1.1883e-01, -1.7620e-01],\n",
       "          [-5.4005e-02, -1.6962e-01, -7.6261e-02,  9.3229e-02,  1.5781e-02],\n",
       "          [-9.1030e-03,  9.6511e-02, -1.1449e-02, -1.1775e-01,  7.7022e-03],\n",
       "          [ 5.7346e-02, -8.0860e-02,  2.7266e-02, -6.1707e-02,  1.6199e-01],\n",
       "          [-1.8153e-02,  2.0618e-01,  1.5400e-01, -1.0438e-01, -1.2825e-02]]],\n",
       "\n",
       "\n",
       "        [[[ 1.7107e-01,  2.8355e-01,  6.3702e-02, -1.5693e-02,  4.5430e-01],\n",
       "          [ 2.9396e-01, -2.4056e-01, -2.4756e-01, -4.9318e-01,  2.6189e-01],\n",
       "          [ 2.6619e-01, -2.8269e-01,  6.5895e-02,  6.2620e-01,  3.2305e-01],\n",
       "          [-1.3895e-02,  3.3185e-01, -4.3513e-01, -4.3759e-01, -3.1120e-01],\n",
       "          [-1.6067e-02,  2.5017e-01, -3.8403e-01, -2.4105e-01,  5.8478e-02]]],\n",
       "\n",
       "\n",
       "        [[[ 1.0643e-01,  2.4454e-02,  2.8191e-01, -8.8612e-02, -2.9598e-01],\n",
       "          [ 1.7661e-01,  1.4019e-01, -9.8306e-02, -6.9574e-01,  2.6365e-01],\n",
       "          [ 1.3060e-01, -1.3087e-01,  4.8147e-01, -9.7648e-02, -2.0502e-01],\n",
       "          [ 6.1548e-01,  2.7627e-01, -2.2289e-02,  1.6291e-01, -2.1063e-01],\n",
       "          [ 2.0865e-01,  3.0046e-03,  8.6495e-02, -2.4200e-01,  3.4703e-01]]],\n",
       "\n",
       "\n",
       "        [[[ 1.7505e-01, -3.0108e-02,  1.0308e-01,  1.3387e-01, -7.2132e-02],\n",
       "          [-2.2401e-01, -1.8140e-02,  2.0407e-01,  1.0883e-01,  5.3239e-02],\n",
       "          [-2.3894e-01, -1.4295e-01, -4.0012e-02,  3.0309e-01, -2.8622e-01],\n",
       "          [ 1.8657e-01,  4.5911e-01,  3.7460e-01, -1.6848e-01, -2.4292e-02],\n",
       "          [ 2.8462e-01, -2.2315e-01,  1.2445e-01, -2.6365e-01,  2.3670e-02]]],\n",
       "\n",
       "\n",
       "        [[[ 1.7753e-02,  5.1981e-03,  1.1135e-02,  2.0492e-03, -1.5453e-03],\n",
       "          [ 3.6837e-03,  2.4779e-02,  9.0510e-03, -3.4062e-02, -1.2864e-02],\n",
       "          [-3.7239e-03,  1.3774e-02,  3.8211e-02, -3.4598e-03, -3.9279e-02],\n",
       "          [ 1.4401e-02,  1.3830e-02, -1.3634e-02, -3.4416e-02, -1.1980e-02],\n",
       "          [ 2.8610e-03,  6.2677e-03, -7.1294e-05,  1.2720e-02, -7.6987e-03]]],\n",
       "\n",
       "\n",
       "        [[[ 1.6877e-02, -5.2569e-03, -1.0641e-02, -2.1682e-02, -2.6266e-02],\n",
       "          [ 3.8589e-02, -3.0182e-02, -7.1384e-03,  3.9606e-02, -1.5174e-02],\n",
       "          [ 8.0253e-03, -2.6769e-02,  2.7489e-02,  1.2835e-02, -1.0034e-02],\n",
       "          [ 3.0318e-03, -1.2475e-02, -6.4352e-03,  1.3069e-02,  6.8399e-03],\n",
       "          [ 3.3646e-03,  3.8865e-02, -1.5642e-03,  1.7349e-02, -1.3476e-02]]],\n",
       "\n",
       "\n",
       "        [[[-1.0031e-02,  1.3488e-03,  1.0652e-03,  9.8318e-04, -1.8854e-03],\n",
       "          [-1.5508e-03, -7.8801e-04, -4.7815e-03,  1.4240e-03, -5.1314e-03],\n",
       "          [ 3.6018e-04, -4.2762e-03, -1.9235e-03,  7.2213e-04,  2.6615e-03],\n",
       "          [-1.8489e-03, -5.8669e-03, -1.4526e-03, -1.7642e-03, -1.0764e-03],\n",
       "          [ 2.7670e-03, -2.6229e-03, -3.4748e-03, -1.2342e-04,  7.5890e-04]]],\n",
       "\n",
       "\n",
       "        [[[-4.5441e-02, -1.7918e-01, -9.4557e-03, -8.0730e-02, -2.0197e-03],\n",
       "          [ 1.6410e-02,  3.6819e-02,  2.2027e-01, -2.2079e-02, -8.0627e-02],\n",
       "          [-1.0489e-01, -1.1208e-01, -6.0614e-02,  9.1793e-02, -3.1953e-02],\n",
       "          [ 1.3494e-02,  2.9217e-01, -2.6541e-01, -7.6223e-02, -1.6790e-01],\n",
       "          [-3.0139e-02, -9.9679e-03,  3.9293e-02, -9.9572e-02,  3.7419e-02]]],\n",
       "\n",
       "\n",
       "        [[[-2.9084e-03, -1.6632e-01,  2.7354e-01, -2.6413e-01, -7.8866e-02],\n",
       "          [ 5.6271e-02,  2.2973e-01, -4.2184e-02, -1.3645e-01,  1.9866e-01],\n",
       "          [ 9.0718e-02, -3.6948e-01,  2.8930e-01, -1.6117e-01, -3.5429e-01],\n",
       "          [ 1.7645e-01,  1.1102e-01, -4.9424e-01,  2.0524e-01,  2.8525e-01],\n",
       "          [ 3.7612e-01,  2.6926e-01,  4.2581e-01,  2.2545e-01, -2.1760e-01]]],\n",
       "\n",
       "\n",
       "        [[[        nan,         nan,         nan,         nan,         nan],\n",
       "          [        nan,         nan,         nan,         nan,         nan],\n",
       "          [        nan,         nan,         nan,         nan,         nan],\n",
       "          [        nan,         nan,         nan,         nan,         nan],\n",
       "          [        nan,         nan,         nan,         nan,         nan]]],\n",
       "\n",
       "\n",
       "        [[[ 2.9418e-01,  9.2463e-02,  4.2972e-01, -3.0977e-01,  1.2254e-01],\n",
       "          [ 1.6551e-01, -1.7298e-02, -9.9832e-02, -5.6908e-03, -7.3730e-02],\n",
       "          [-7.7210e-02,  6.3074e-02, -1.7468e-01, -2.7162e-02,  2.2435e-01],\n",
       "          [-5.3666e-02, -5.7566e-01,  2.5841e-01,  7.1677e-02,  1.6321e-02],\n",
       "          [ 1.7732e-01, -1.8258e-01, -8.4605e-01, -3.3640e-01,  2.5264e-01]]]],\n",
       "       grad_fn=<MulBackward0>)"
      ]
     },
     "execution_count": 105,
     "metadata": {},
     "output_type": "execute_result"
    }
   ],
   "source": [
    "z * weights"
   ]
  },
  {
   "cell_type": "code",
   "execution_count": 103,
   "metadata": {},
   "outputs": [
    {
     "data": {
      "text/plain": [
       "tensor([[[[0.1117]]],\n",
       "\n",
       "\n",
       "        [[[0.5207]]],\n",
       "\n",
       "\n",
       "        [[[1.0000]]],\n",
       "\n",
       "\n",
       "        [[[0.6129]]],\n",
       "\n",
       "\n",
       "        [[[0.4604]]],\n",
       "\n",
       "\n",
       "        [[[0.4275]]],\n",
       "\n",
       "\n",
       "        [[[1.0000]]],\n",
       "\n",
       "\n",
       "        [[[0.9330]]],\n",
       "\n",
       "\n",
       "        [[[0.6005]]],\n",
       "\n",
       "\n",
       "        [[[0.0801]]],\n",
       "\n",
       "\n",
       "        [[[0.0000]]],\n",
       "\n",
       "\n",
       "        [[[0.0168]]],\n",
       "\n",
       "\n",
       "        [[[0.3874]]],\n",
       "\n",
       "\n",
       "        [[[0.8673]]],\n",
       "\n",
       "\n",
       "        [[[1.0000]]],\n",
       "\n",
       "\n",
       "        [[[0.9763]]]], grad_fn=<HardtanhBackward0>)"
      ]
     },
     "execution_count": 103,
     "metadata": {},
     "output_type": "execute_result"
    }
   ],
   "source": [
    "F.hardtanh(z, min_val=0, max_val=1)"
   ]
  },
  {
   "cell_type": "code",
   "execution_count": 82,
   "metadata": {},
   "outputs": [
    {
     "data": {
      "text/plain": [
       "tensor([[[-0., 0., -0., -0., 0.],\n",
       "         [-0., -0., 0., 0., 0.],\n",
       "         [-0., 0., -0., 0., 0.],\n",
       "         [0., -0., 0., -0., 0.],\n",
       "         [0., 0., 0., -0., -0.]]], grad_fn=<SelectBackward>)"
      ]
     },
     "execution_count": 82,
     "metadata": {},
     "output_type": "execute_result"
    }
   ],
   "source": [
    "weight[1]"
   ]
  },
  {
   "cell_type": "code",
   "execution_count": 78,
   "metadata": {},
   "outputs": [
    {
     "name": "stdout",
     "output_type": "stream",
     "text": [
      "tensor(0., grad_fn=<SumBackward0>)\n",
      "tensor(0., grad_fn=<SumBackward0>)\n",
      "tensor(-0.0676, grad_fn=<SumBackward0>)\n",
      "tensor(-1.5943, grad_fn=<SumBackward0>)\n",
      "tensor(-0.8046, grad_fn=<SumBackward0>)\n",
      "tensor(0.0256, grad_fn=<SumBackward0>)\n",
      "tensor(0.0096, grad_fn=<SumBackward0>)\n",
      "tensor(0.2718, grad_fn=<SumBackward0>)\n",
      "tensor(0.5093, grad_fn=<SumBackward0>)\n",
      "tensor(1.3359, grad_fn=<SumBackward0>)\n",
      "tensor(-0.8409, grad_fn=<SumBackward0>)\n",
      "tensor(-0.6912, grad_fn=<SumBackward0>)\n",
      "tensor(-0.1197, grad_fn=<SumBackward0>)\n",
      "tensor(0.5211, grad_fn=<SumBackward0>)\n",
      "tensor(-0.0169, grad_fn=<SumBackward0>)\n",
      "tensor(0.7425, grad_fn=<SumBackward0>)\n"
     ]
    }
   ],
   "source": [
    "for w in weight:\n",
    "    print(w.sum())"
   ]
  },
  {
   "cell_type": "code",
   "execution_count": 43,
   "metadata": {},
   "outputs": [],
   "source": [
    "a = Tensor(np.arange(-10, 10, 0.1))"
   ]
  },
  {
   "cell_type": "code",
   "execution_count": 47,
   "metadata": {},
   "outputs": [
    {
     "data": {
      "text/plain": [
       "[<matplotlib.lines.Line2D at 0x7f54a5efb810>]"
      ]
     },
     "execution_count": 47,
     "metadata": {},
     "output_type": "execute_result"
    },
    {
     "data": {
      "image/png": "[encoded data removed]",
      "text/plain": [
       "<Figure size 432x288 with 1 Axes>"
      ]
     },
     "metadata": {
      "needs_background": "light"
     },
     "output_type": "display_data"
    }
   ],
   "source": [
    "plt.plot(a, F.hardtanh(a, min_val=0, max_val=1))"
   ]
  },
  {
   "cell_type": "code",
   "execution_count": null,
   "metadata": {},
   "outputs": [],
   "source": [
    "class L0Conv2d(Module):\n",
    "    \"\"\"Implementation of L0 regularization for the feature maps of a convolutional layer\"\"\"\n",
    "\n",
    "    def __init__(self, in_channels, out_channels, kernel_size, stride=1, padding=0, dilation=1, groups=1, bias=True,\n",
    "                 droprate_init=0.5, temperature=2. / 3., weight_decay=1., lamba=1., local_rep=False, **kwargs):\n",
    "        \"\"\"\n",
    "        :param in_channels: Number of input channels\n",
    "        :param out_channels: Number of output channels\n",
    "        :param kernel_size: Size of the kernel\n",
    "        :param stride: Stride for the convolution\n",
    "        :param padding: Padding for the convolution\n",
    "        :param dilation: Dilation factor for the convolution\n",
    "        :param groups: How many groups we will assume in the convolution\n",
    "        :param bias: Whether we will use a bias\n",
    "        :param droprate_init: Dropout rate that the L0 gates will be initialized to\n",
    "        :param temperature: Temperature of the concrete distribution\n",
    "        :param weight_decay: Strength of the L2 penalty\n",
    "        :param lamba: Strength of the L0 penalty\n",
    "        :param local_rep: Whether we will use a separate gate sample per element in the minibatch\n",
    "        \"\"\"\n",
    "        super(L0Conv2d, self).__init__()\n",
    "        assert in_channels % groups != 0, 'in_channels must be divisible by groups'\n",
    "        assert out_channels % groups != 0, 'out_channels must be divisible by groups'\n",
    "        \n",
    "        self.in_channels = in_channels\n",
    "        self.out_channels = out_channels\n",
    "        self.kernel_size = pair(kernel_size)\n",
    "        self.stride = pair(stride)\n",
    "        self.padding = pair(padding)\n",
    "        self.dilation = pair(dilation)\n",
    "        self.output_padding = pair(0)\n",
    "        self.groups = groups\n",
    "        self.prior_prec = weight_decay\n",
    "        self.lamba = lamba\n",
    "        self.droprate_init = droprate_init if droprate_init != 0. else 0.5\n",
    "        self.temperature = temperature\n",
    "        self.floatTensor = torch.FloatTensor if not torch.cuda.is_available() else torch.cuda.FloatTensor\n",
    "        self.use_bias = False\n",
    "        \n",
    "        self.weights = Parameter(torch.Tensor(out_channels, in_channels // groups, *self.kernel_size))\n",
    "        self.qz_loga = Parameter(torch.Tensor(out_channels))\n",
    "        self.dim_z = out_channels\n",
    "        \n",
    "        self.input_shape = None\n",
    "        self.local_rep = local_rep\n",
    "\n",
    "        h_out = lambda h_in, padding, dilation, kernel_size, stride: np.floor(\n",
    "            (h_in + 2 * padding[0] - dilation[0] * (kernel_size[0] - 1) - 1) / stride[0] + 1)\n",
    "        w_out = lambda w_in, padding, dilation, kernel_size, stride: np.floor(\n",
    "            (w_in + 2 * padding[1] - dilation[1] * (kernel_size[1] - 1) - 1) / stride[1] + 1)\n",
    "\n",
    "        if bias:\n",
    "            self.bias = Parameter(torch.Tensor(out_channels))\n",
    "            self.use_bias = True\n",
    "\n",
    "        self.reset_parameters()\n",
    "        print(self)\n",
    "        \n",
    "        \n",
    "    def forward(self):\n",
    "        "
   ]
  },
  {
   "cell_type": "code",
   "execution_count": 31,
   "metadata": {
    "scrolled": true
   },
   "outputs": [
    {
     "data": {
      "text/plain": [
       "torch.Size([16, 1, 5, 5])"
      ]
     },
     "execution_count": 31,
     "metadata": {},
     "output_type": "execute_result"
    }
   ],
   "source": [
    "weights.shape"
   ]
  },
  {
   "cell_type": "code",
   "execution_count": 28,
   "metadata": {},
   "outputs": [
    {
     "name": "stdout",
     "output_type": "stream",
     "text": [
      "L0Conv2d(1, 16, kernel_size=(5, 5), stride=(1, 1), droprate_init=0.5, temperature=0.6666666666666666, prior_prec=1.0, lamba=1.0, local_rep=False)\n"
     ]
    },
    {
     "name": "stderr",
     "output_type": "stream",
     "text": [
      "/opt/conda/lib/python3.7/site-packages/ipykernel_launcher.py:173: UserWarning: nn.init.kaiming_normal is now deprecated in favor of nn.init.kaiming_normal_.\n"
     ]
    }
   ],
   "source": [
    "c = L0Conv2d(c_in, c_out, 5)"
   ]
  },
  {
   "cell_type": "code",
   "execution_count": 30,
   "metadata": {},
   "outputs": [
    {
     "data": {
      "text/plain": [
       "'L0Conv2d(1, 16, kernel_size=(5, 5), stride=(1, 1), droprate_init=0.5, temperature=0.6666666666666666, prior_prec=1.0, lamba=1.0, local_rep=False)'"
      ]
     },
     "execution_count": 30,
     "metadata": {},
     "output_type": "execute_result"
    }
   ],
   "source": [
    "c.__repr__()"
   ]
  },
  {
   "cell_type": "code",
   "execution_count": null,
   "metadata": {},
   "outputs": [],
   "source": []
  }
 ],
 "metadata": {
  "kernelspec": {
   "display_name": "Python 3",
   "language": "python",
   "name": "python3"
  },
  "language_info": {
   "codemirror_mode": {
    "name": "ipython",
    "version": 3
   },
   "file_extension": ".py",
   "mimetype": "text/x-python",
   "name": "python",
   "nbconvert_exporter": "python",
   "pygments_lexer": "ipython3",
   "version": "3.7.4"
  }
 },
 "nbformat": 4,
 "nbformat_minor": 4
}
