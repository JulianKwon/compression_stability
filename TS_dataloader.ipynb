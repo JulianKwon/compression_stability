{
 "cells": [
  {
   "cell_type": "code",
   "execution_count": 2,
   "metadata": {},
   "outputs": [],
   "source": [
    "import sys\n",
    "import numpy as np\n",
    "import pandas as pd\n",
    "\n",
    "import seaborn as sns\n",
    "import matplotlib.pyplot as plt\n",
    "import os"
   ]
  },
  {
   "cell_type": "code",
   "execution_count": 3,
   "metadata": {},
   "outputs": [],
   "source": [
    "def visualize_temperatures(df_list, df_names, plot_type='histogram'):\n",
    "    '''\n",
    "    Compare the distribution of temperature labels in datasets\n",
    "    Supported visualization formats:\n",
    "     - histogram\n",
    "     - violin\n",
    "    '''\n",
    "    temperatures = np.concatenate([df['fact_temperature'] for df in df_list])\n",
    "    names = np.concatenate([[name]*len(df) for name, df in zip(df_names, df_list)])\n",
    "\n",
    "    df_to_plot = pd.DataFrame(data={'Temperature': temperatures, 'Dataset Name':names})\n",
    "\n",
    "    if plot_type == 'histogram':\n",
    "        sns.histplot(\n",
    "            data=df_to_plot, x=\"Temperature\", hue=\"Dataset Name\",\n",
    "            element=\"step\", stat=\"density\", common_norm=False)\n",
    "    elif plot_type == 'violin':\n",
    "        sns.violinplot(x='Temperature', y='Dataset Name',\n",
    "                              data=df_to_plot, scale='width', palette='Set3')\n",
    "    else:\n",
    "        raise ValueError(\"Unsupported plot_type\")\n",
    "    \n",
    "    plt.show()\n",
    "    plt.clf()"
   ]
  },
  {
   "cell_type": "code",
   "execution_count": 4,
   "metadata": {
    "scrolled": true
   },
   "outputs": [
    {
     "data": {
      "text/html": [
       "<div>\n",
       "<style scoped>\n",
       "    .dataframe tbody tr th:only-of-type {\n",
       "        vertical-align: middle;\n",
       "    }\n",
       "\n",
       "    .dataframe tbody tr th {\n",
       "        vertical-align: top;\n",
       "    }\n",
       "\n",
       "    .dataframe thead th {\n",
       "        text-align: right;\n",
       "    }\n",
       "</style>\n",
       "<table border=\"1\" class=\"dataframe\">\n",
       "  <thead>\n",
       "    <tr style=\"text-align: right;\">\n",
       "      <th></th>\n",
       "      <th>fact_time</th>\n",
       "      <th>fact_latitude</th>\n",
       "      <th>fact_longitude</th>\n",
       "      <th>fact_temperature</th>\n",
       "      <th>fact_cwsm_class</th>\n",
       "      <th>climate</th>\n",
       "      <th>topography_bathymetry</th>\n",
       "      <th>sun_elevation</th>\n",
       "      <th>climate_temperature</th>\n",
       "      <th>climate_pressure</th>\n",
       "      <th>...</th>\n",
       "      <th>cmc_0_1_66_0_grad</th>\n",
       "      <th>cmc_0_1_66_0_next</th>\n",
       "      <th>cmc_0_1_67_0_grad</th>\n",
       "      <th>cmc_0_1_67_0_next</th>\n",
       "      <th>cmc_0_1_68_0_grad</th>\n",
       "      <th>cmc_0_1_68_0_next</th>\n",
       "      <th>gfs_2m_dewpoint_grad</th>\n",
       "      <th>gfs_2m_dewpoint_next</th>\n",
       "      <th>gfs_total_clouds_cover_low_grad</th>\n",
       "      <th>gfs_total_clouds_cover_low_next</th>\n",
       "    </tr>\n",
       "  </thead>\n",
       "  <tbody>\n",
       "    <tr>\n",
       "      <th>0</th>\n",
       "      <td>1.543321e+09</td>\n",
       "      <td>26.968800</td>\n",
       "      <td>-99.248901</td>\n",
       "      <td>2.0</td>\n",
       "      <td>0.0</td>\n",
       "      <td>dry</td>\n",
       "      <td>127.0</td>\n",
       "      <td>-17.526443</td>\n",
       "      <td>14.613571</td>\n",
       "      <td>754.263405</td>\n",
       "      <td>...</td>\n",
       "      <td>0.0</td>\n",
       "      <td>0.0</td>\n",
       "      <td>0.0</td>\n",
       "      <td>0.0</td>\n",
       "      <td>0.0</td>\n",
       "      <td>0.0</td>\n",
       "      <td>-2.600006</td>\n",
       "      <td>-2.750006</td>\n",
       "      <td>0.0</td>\n",
       "      <td>0.0</td>\n",
       "    </tr>\n",
       "    <tr>\n",
       "      <th>1</th>\n",
       "      <td>1.538776e+09</td>\n",
       "      <td>29.374201</td>\n",
       "      <td>-100.927002</td>\n",
       "      <td>31.0</td>\n",
       "      <td>20.0</td>\n",
       "      <td>mild temperate</td>\n",
       "      <td>297.0</td>\n",
       "      <td>41.531032</td>\n",
       "      <td>26.992143</td>\n",
       "      <td>733.117168</td>\n",
       "      <td>...</td>\n",
       "      <td>0.0</td>\n",
       "      <td>0.0</td>\n",
       "      <td>0.0</td>\n",
       "      <td>0.0</td>\n",
       "      <td>0.0</td>\n",
       "      <td>0.0</td>\n",
       "      <td>-0.600006</td>\n",
       "      <td>17.950006</td>\n",
       "      <td>-12.0</td>\n",
       "      <td>11.0</td>\n",
       "    </tr>\n",
       "    <tr>\n",
       "      <th>2</th>\n",
       "      <td>1.552115e+09</td>\n",
       "      <td>22.149599</td>\n",
       "      <td>113.592003</td>\n",
       "      <td>17.0</td>\n",
       "      <td>10.0</td>\n",
       "      <td>mild temperate</td>\n",
       "      <td>-1.0</td>\n",
       "      <td>43.916531</td>\n",
       "      <td>18.842143</td>\n",
       "      <td>761.571076</td>\n",
       "      <td>...</td>\n",
       "      <td>0.0</td>\n",
       "      <td>0.0</td>\n",
       "      <td>0.0</td>\n",
       "      <td>0.0</td>\n",
       "      <td>0.0</td>\n",
       "      <td>0.0</td>\n",
       "      <td>-0.233978</td>\n",
       "      <td>21.450006</td>\n",
       "      <td>1.0</td>\n",
       "      <td>8.0</td>\n",
       "    </tr>\n",
       "    <tr>\n",
       "      <th>3</th>\n",
       "      <td>1.549566e+09</td>\n",
       "      <td>34.678699</td>\n",
       "      <td>-86.684799</td>\n",
       "      <td>24.0</td>\n",
       "      <td>20.0</td>\n",
       "      <td>mild temperate</td>\n",
       "      <td>193.0</td>\n",
       "      <td>40.240955</td>\n",
       "      <td>8.303571</td>\n",
       "      <td>747.524910</td>\n",
       "      <td>...</td>\n",
       "      <td>0.0</td>\n",
       "      <td>0.0</td>\n",
       "      <td>0.0</td>\n",
       "      <td>0.0</td>\n",
       "      <td>0.0</td>\n",
       "      <td>0.0</td>\n",
       "      <td>0.059448</td>\n",
       "      <td>16.150018</td>\n",
       "      <td>-58.0</td>\n",
       "      <td>41.0</td>\n",
       "    </tr>\n",
       "    <tr>\n",
       "      <th>4</th>\n",
       "      <td>1.552910e+09</td>\n",
       "      <td>46.066667</td>\n",
       "      <td>41.966667</td>\n",
       "      <td>9.0</td>\n",
       "      <td>20.0</td>\n",
       "      <td>dry</td>\n",
       "      <td>90.0</td>\n",
       "      <td>30.394660</td>\n",
       "      <td>6.451429</td>\n",
       "      <td>753.168113</td>\n",
       "      <td>...</td>\n",
       "      <td>0.0</td>\n",
       "      <td>0.0</td>\n",
       "      <td>0.0</td>\n",
       "      <td>0.0</td>\n",
       "      <td>0.0</td>\n",
       "      <td>0.0</td>\n",
       "      <td>0.400024</td>\n",
       "      <td>3.150018</td>\n",
       "      <td>18.0</td>\n",
       "      <td>92.0</td>\n",
       "    </tr>\n",
       "  </tbody>\n",
       "</table>\n",
       "<p>5 rows × 129 columns</p>\n",
       "</div>"
      ],
      "text/plain": [
       "      fact_time  fact_latitude  fact_longitude  fact_temperature  \\\n",
       "0  1.543321e+09      26.968800      -99.248901               2.0   \n",
       "1  1.538776e+09      29.374201     -100.927002              31.0   \n",
       "2  1.552115e+09      22.149599      113.592003              17.0   \n",
       "3  1.549566e+09      34.678699      -86.684799              24.0   \n",
       "4  1.552910e+09      46.066667       41.966667               9.0   \n",
       "\n",
       "   fact_cwsm_class         climate  topography_bathymetry  sun_elevation  \\\n",
       "0              0.0             dry                  127.0     -17.526443   \n",
       "1             20.0  mild temperate                  297.0      41.531032   \n",
       "2             10.0  mild temperate                   -1.0      43.916531   \n",
       "3             20.0  mild temperate                  193.0      40.240955   \n",
       "4             20.0             dry                   90.0      30.394660   \n",
       "\n",
       "   climate_temperature  climate_pressure  ...  cmc_0_1_66_0_grad  \\\n",
       "0            14.613571        754.263405  ...                0.0   \n",
       "1            26.992143        733.117168  ...                0.0   \n",
       "2            18.842143        761.571076  ...                0.0   \n",
       "3             8.303571        747.524910  ...                0.0   \n",
       "4             6.451429        753.168113  ...                0.0   \n",
       "\n",
       "   cmc_0_1_66_0_next  cmc_0_1_67_0_grad  cmc_0_1_67_0_next  cmc_0_1_68_0_grad  \\\n",
       "0                0.0                0.0                0.0                0.0   \n",
       "1                0.0                0.0                0.0                0.0   \n",
       "2                0.0                0.0                0.0                0.0   \n",
       "3                0.0                0.0                0.0                0.0   \n",
       "4                0.0                0.0                0.0                0.0   \n",
       "\n",
       "   cmc_0_1_68_0_next  gfs_2m_dewpoint_grad  gfs_2m_dewpoint_next  \\\n",
       "0                0.0             -2.600006             -2.750006   \n",
       "1                0.0             -0.600006             17.950006   \n",
       "2                0.0             -0.233978             21.450006   \n",
       "3                0.0              0.059448             16.150018   \n",
       "4                0.0              0.400024              3.150018   \n",
       "\n",
       "   gfs_total_clouds_cover_low_grad  gfs_total_clouds_cover_low_next  \n",
       "0                              0.0                              0.0  \n",
       "1                            -12.0                             11.0  \n",
       "2                              1.0                              8.0  \n",
       "3                            -58.0                             41.0  \n",
       "4                             18.0                             92.0  \n",
       "\n",
       "[5 rows x 129 columns]"
      ]
     },
     "execution_count": 4,
     "metadata": {},
     "output_type": "execute_result"
    }
   ],
   "source": [
    "DATA_PATH = '/workspace/TSDataset/canonical_data'\n",
    "\n",
    "df_train = pd.read_csv(DATA_PATH + '/train.csv')\n",
    "df_train.head()"
   ]
  },
  {
   "cell_type": "code",
   "execution_count": 5,
   "metadata": {},
   "outputs": [],
   "source": [
    "df_dev_in = pd.read_csv(DATA_PATH + '/dev_in.csv')\n",
    "df_dev_out = pd.read_csv(DATA_PATH + '/dev_out.csv')"
   ]
  },
  {
   "cell_type": "code",
   "execution_count": 6,
   "metadata": {},
   "outputs": [],
   "source": [
    "df_names = ['train', 'dev_in', 'dev_out']\n",
    "df_list = [df_train, df_dev_in, df_dev_out]"
   ]
  },
  {
   "cell_type": "code",
   "execution_count": 7,
   "metadata": {},
   "outputs": [
    {
     "data": {
      "image/png": "[encoded data removed]",
      "text/plain": [
       "<Figure size 432x288 with 1 Axes>"
      ]
     },
     "metadata": {
      "needs_background": "light"
     },
     "output_type": "display_data"
    },
    {
     "data": {
      "text/plain": [
       "<Figure size 432x288 with 0 Axes>"
      ]
     },
     "metadata": {},
     "output_type": "display_data"
    }
   ],
   "source": [
    "visualize_temperatures(df_list, df_names, plot_type='violin')"
   ]
  },
  {
   "cell_type": "code",
   "execution_count": 8,
   "metadata": {},
   "outputs": [
    {
     "data": {
      "image/png": "[encoded data removed]",
      "text/plain": [
       "<Figure size 432x288 with 1 Axes>"
      ]
     },
     "metadata": {
      "needs_background": "light"
     },
     "output_type": "display_data"
    },
    {
     "data": {
      "text/plain": [
       "<Figure size 432x288 with 0 Axes>"
      ]
     },
     "metadata": {},
     "output_type": "display_data"
    }
   ],
   "source": [
    "visualize_temperatures(df_list, df_names, plot_type='histogram')"
   ]
  },
  {
   "cell_type": "code",
   "execution_count": 9,
   "metadata": {},
   "outputs": [],
   "source": [
    "X_train = df_train.iloc[:,6:]\n",
    "X_dev_in = df_dev_in.iloc[:,6:]\n",
    "y_train = df_train['fact_temperature']\n",
    "y_dev_in = df_dev_in['fact_temperature']"
   ]
  },
  {
   "cell_type": "code",
   "execution_count": 10,
   "metadata": {},
   "outputs": [],
   "source": [
    "# Set training hyperparameters (note these are dummy hyperparameters - you will need to select your own)\n",
    "ensemble_size = 3\n",
    "depth = 2\n",
    "iterations = 200\n",
    "learning_rate = 0.03"
   ]
  },
  {
   "cell_type": "code",
   "execution_count": 17,
   "metadata": {},
   "outputs": [
    {
     "data": {
      "text/plain": [
       "(3129592, 123)"
      ]
     },
     "execution_count": 17,
     "metadata": {},
     "output_type": "execute_result"
    }
   ],
   "source": [
    "X_train.shape"
   ]
  },
  {
   "cell_type": "code",
   "execution_count": 20,
   "metadata": {},
   "outputs": [
    {
     "name": "stdout",
     "output_type": "stream",
     "text": [
      "Collecting catboost\n",
      "\u001b[?25l  Downloading https://files.pythonhosted.org/packages/f4/f8/1943b42a4db7be411ab6e8bb8f5cf44b33f6f9e83665cc914d864a228d46/catboost-0.26.1-cp37-none-manylinux1_x86_64.whl (67.4MB)\n",
      "\u001b[K     |████████████████████████████████| 67.4MB 65.7MB/s eta 0:00:01   |█                               | 2.2MB 1.3MB/s eta 0:00:51     |██                              | 4.4MB 1.3MB/s eta 0:00:50\n",
      "\u001b[?25hRequirement already satisfied: scipy in /opt/conda/lib/python3.7/site-packages (from catboost) (1.4.1)\n",
      "Requirement already satisfied: numpy>=1.16.0 in /opt/conda/lib/python3.7/site-packages (from catboost) (1.17.4)\n",
      "Requirement already satisfied: matplotlib in /opt/conda/lib/python3.7/site-packages (from catboost) (3.1.3)\n",
      "Collecting graphviz\n",
      "  Downloading https://files.pythonhosted.org/packages/97/14/b5eeeb6d24dbca0ada857ce4a453985df34d9512464bb20cc1a8aca44c54/graphviz-0.17-py3-none-any.whl\n",
      "Requirement already satisfied: pandas>=0.24.0 in /opt/conda/lib/python3.7/site-packages (from catboost) (1.0.1)\n",
      "Collecting plotly\n",
      "\u001b[?25l  Downloading https://files.pythonhosted.org/packages/95/8d/ac1560f7ccc2ace85cd1e9619bbec1975b5d2d92e6c6fdbbdaa994c6ab4d/plotly-5.1.0-py2.py3-none-any.whl (20.6MB)\n",
      "\u001b[K     |████████████████████████████████| 20.6MB 19.2MB/s eta 0:00:01\n",
      "\u001b[?25hRequirement already satisfied: six in /opt/conda/lib/python3.7/site-packages (from catboost) (1.12.0)\n",
      "Requirement already satisfied: kiwisolver>=1.0.1 in /opt/conda/lib/python3.7/site-packages (from matplotlib->catboost) (1.1.0)\n",
      "Requirement already satisfied: pyparsing!=2.0.4,!=2.1.2,!=2.1.6,>=2.0.1 in /opt/conda/lib/python3.7/site-packages (from matplotlib->catboost) (2.4.6)\n",
      "Requirement already satisfied: python-dateutil>=2.1 in /opt/conda/lib/python3.7/site-packages (from matplotlib->catboost) (2.8.1)\n",
      "Requirement already satisfied: cycler>=0.10 in /opt/conda/lib/python3.7/site-packages (from matplotlib->catboost) (0.10.0)\n",
      "Requirement already satisfied: pytz>=2017.2 in /opt/conda/lib/python3.7/site-packages (from pandas>=0.24.0->catboost) (2019.3)\n",
      "Collecting tenacity>=6.2.0\n",
      "  Downloading https://files.pythonhosted.org/packages/f2/a5/f86bc8d67c979020438c8559cc70cfe3a1643fd160d35e09c9cca6a09189/tenacity-8.0.1-py3-none-any.whl\n",
      "Requirement already satisfied: setuptools in /opt/conda/lib/python3.7/site-packages (from kiwisolver>=1.0.1->matplotlib->catboost) (41.4.0)\n",
      "Installing collected packages: graphviz, tenacity, plotly, catboost\n",
      "Successfully installed catboost-0.26.1 graphviz-0.17 plotly-5.1.0 tenacity-8.0.1\n"
     ]
    }
   ],
   "source": [
    "!pip install catboost"
   ]
  },
  {
   "cell_type": "code",
   "execution_count": 21,
   "metadata": {},
   "outputs": [],
   "source": [
    "import catboost"
   ]
  },
  {
   "cell_type": "code",
   "execution_count": 22,
   "metadata": {},
   "outputs": [
    {
     "name": "stdout",
     "output_type": "stream",
     "text": [
      "\n",
      " Model index: 0\n",
      "\n",
      "0:\tlearn: 10.0772485\ttest: 10.0762054\tbest: 10.0762054 (0)\ttotal: 372ms\tremaining: 1m 14s\n",
      "100:\tlearn: 2.8933962\ttest: 2.8692723\tbest: 2.8692723 (100)\ttotal: 28.4s\tremaining: 27.8s\n",
      "199:\tlearn: 2.4636227\ttest: 2.4470545\tbest: 2.4470545 (199)\ttotal: 54.1s\tremaining: 0us\n",
      "\n",
      "bestTest = 2.447054531\n",
      "bestIteration = 199\n",
      "\n",
      "\n",
      " Model index: 1\n",
      "\n",
      "0:\tlearn: 10.0797424\ttest: 10.0788222\tbest: 10.0788222 (0)\ttotal: 306ms\tremaining: 1m\n",
      "100:\tlearn: 2.8958509\ttest: 2.8717422\tbest: 2.8717422 (100)\ttotal: 28s\tremaining: 27.4s\n",
      "199:\tlearn: 2.4668849\ttest: 2.4504754\tbest: 2.4504754 (199)\ttotal: 53.2s\tremaining: 0us\n",
      "\n",
      "bestTest = 2.450475398\n",
      "bestIteration = 199\n",
      "\n",
      "\n",
      " Model index: 2\n",
      "\n",
      "0:\tlearn: 10.0766372\ttest: 10.0755385\tbest: 10.0755385 (0)\ttotal: 292ms\tremaining: 58s\n",
      "100:\tlearn: 2.8947113\ttest: 2.8704513\tbest: 2.8704513 (100)\ttotal: 27.7s\tremaining: 27.2s\n",
      "199:\tlearn: 2.4646485\ttest: 2.4479654\tbest: 2.4479654 (199)\ttotal: 52.5s\tremaining: 0us\n",
      "\n",
      "bestTest = 2.447965358\n",
      "bestIteration = 199\n",
      "\n"
     ]
    }
   ],
   "source": [
    "trained_models = []\n",
    "for seed in range(ensemble_size):\n",
    "    \n",
    "    model = catboost.CatBoostRegressor(\n",
    "        learning_rate = learning_rate,\n",
    "        iterations = iterations,\n",
    "        depth = depth,\n",
    "        loss_function = 'RMSEWithUncertainty',\n",
    "        eval_metric = 'RMSE',\n",
    "        random_seed = seed)\n",
    "    \n",
    "    print(f'\\n Model index: {seed}\\n')\n",
    "    \n",
    "    model.fit(\n",
    "        X_train,\n",
    "        y_train,\n",
    "        verbose = 100,\n",
    "        eval_set = (X_dev_in, y_dev_in))\n",
    "    \n",
    "    trained_models.append(model)"
   ]
  },
  {
   "cell_type": "code",
   "execution_count": 26,
   "metadata": {},
   "outputs": [],
   "source": [
    "dir_path = './save_'\n",
    "if not os.path.exists(dir_path):\n",
    "    os.mkdir(dir_path)\n",
    "for i, model in enumerate(trained_models):\n",
    "    model.save_model(f'{dir_path}/model{i+1}.cbm')"
   ]
  },
  {
   "cell_type": "code",
   "execution_count": 30,
   "metadata": {},
   "outputs": [
    {
     "data": {
      "text/plain": [
       "2.0"
      ]
     },
     "execution_count": 30,
     "metadata": {},
     "output_type": "execute_result"
    }
   ],
   "source": [
    "df_train.iloc[0]['fact_temperature']"
   ]
  },
  {
   "cell_type": "code",
   "execution_count": 32,
   "metadata": {
    "scrolled": false
   },
   "outputs": [
    {
     "name": "stdout",
     "output_type": "stream",
     "text": [
      "fact_time\n",
      "fact_latitude\n",
      "fact_longitude\n",
      "fact_temperature\n",
      "fact_cwsm_class\n",
      "climate\n",
      "topography_bathymetry\n",
      "sun_elevation\n",
      "climate_temperature\n",
      "climate_pressure\n",
      "cmc_0_0_0_1000\n",
      "cmc_0_0_0_2_grad\n",
      "cmc_0_0_0_2_interpolated\n",
      "cmc_0_0_0_2_next\n",
      "cmc_0_0_0_2\n",
      "cmc_0_0_0_500\n",
      "cmc_0_0_0_700\n",
      "cmc_0_0_0_850\n",
      "cmc_0_0_0_925\n",
      "cmc_0_0_6_2\n",
      "cmc_0_0_7_1000\n",
      "cmc_0_0_7_2\n",
      "cmc_0_0_7_500\n",
      "cmc_0_0_7_700\n",
      "cmc_0_0_7_850\n",
      "cmc_0_0_7_925\n",
      "cmc_0_1_0_0\n",
      "cmc_0_1_11_0\n",
      "cmc_0_1_65_0\n",
      "cmc_0_1_66_0\n",
      "cmc_0_1_67_0\n",
      "cmc_0_1_68_0\n",
      "cmc_0_1_7_0\n",
      "cmc_0_2_2_10\n",
      "cmc_0_2_2_1000\n",
      "cmc_0_2_2_500\n",
      "cmc_0_2_2_700\n",
      "cmc_0_2_2_850\n",
      "cmc_0_2_2_925\n",
      "cmc_0_2_3_10\n",
      "cmc_0_2_3_1000\n",
      "cmc_0_2_3_500\n",
      "cmc_0_2_3_700\n",
      "cmc_0_2_3_850\n",
      "cmc_0_2_3_925\n",
      "cmc_0_3_0_0\n",
      "cmc_0_3_0_0_next\n",
      "cmc_0_3_1_0\n",
      "cmc_0_3_5_1000\n",
      "cmc_0_3_5_500\n",
      "cmc_0_3_5_700\n",
      "cmc_0_3_5_850\n",
      "cmc_0_3_5_925\n",
      "cmc_0_6_1_0\n",
      "cmc_available\n",
      "cmc_horizon_h\n",
      "cmc_precipitations\n",
      "cmc_timedelta_s\n",
      "gfs_2m_dewpoint\n",
      "gfs_a_vorticity\n",
      "gfs_available\n",
      "gfs_cloudness\n",
      "gfs_clouds_sea\n",
      "gfs_horizon_h\n",
      "gfs_humidity\n",
      "gfs_precipitable_water\n",
      "gfs_precipitations\n",
      "gfs_pressure\n",
      "gfs_r_velocity\n",
      "gfs_soil_temperature\n",
      "gfs_soil_temperature_available\n",
      "gfs_temperature_10000\n",
      "gfs_temperature_15000\n",
      "gfs_temperature_20000\n",
      "gfs_temperature_25000\n",
      "gfs_temperature_30000\n",
      "gfs_temperature_35000\n",
      "gfs_temperature_40000\n",
      "gfs_temperature_45000\n",
      "gfs_temperature_5000\n",
      "gfs_temperature_50000\n",
      "gfs_temperature_55000\n",
      "gfs_temperature_60000\n",
      "gfs_temperature_65000\n",
      "gfs_temperature_7000\n",
      "gfs_temperature_70000\n",
      "gfs_temperature_75000\n",
      "gfs_temperature_80000\n",
      "gfs_temperature_85000\n",
      "gfs_temperature_90000\n",
      "gfs_temperature_92500\n",
      "gfs_temperature_95000\n",
      "gfs_temperature_97500\n",
      "gfs_temperature_sea\n",
      "gfs_temperature_sea_grad\n",
      "gfs_temperature_sea_interpolated\n",
      "gfs_temperature_sea_next\n",
      "gfs_timedelta_s\n",
      "gfs_total_clouds_cover_high\n",
      "gfs_total_clouds_cover_low\n",
      "gfs_total_clouds_cover_middle\n",
      "gfs_u_wind\n",
      "gfs_v_wind\n",
      "gfs_wind_speed\n",
      "wrf_available\n",
      "wrf_t2\n",
      "wrf_t2_next\n",
      "wrf_psfc\n",
      "wrf_rh2\n",
      "wrf_wind_u\n",
      "wrf_wind_v\n",
      "wrf_rain\n",
      "wrf_snow\n",
      "wrf_graupel\n",
      "wrf_hail\n",
      "wrf_t2_interpolated\n",
      "wrf_t2_grad\n",
      "cmc_0_1_65_0_grad\n",
      "cmc_0_1_65_0_next\n",
      "cmc_0_1_66_0_grad\n",
      "cmc_0_1_66_0_next\n",
      "cmc_0_1_67_0_grad\n",
      "cmc_0_1_67_0_next\n",
      "cmc_0_1_68_0_grad\n",
      "cmc_0_1_68_0_next\n",
      "gfs_2m_dewpoint_grad\n",
      "gfs_2m_dewpoint_next\n",
      "gfs_total_clouds_cover_low_grad\n",
      "gfs_total_clouds_cover_low_next\n"
     ]
    }
   ],
   "source": [
    "for k in df_train.iloc[0].keys():\n",
    "    print(k)"
   ]
  },
  {
   "cell_type": "code",
   "execution_count": 37,
   "metadata": {},
   "outputs": [
    {
     "data": {
      "text/plain": [
       "1543320900"
      ]
     },
     "execution_count": 37,
     "metadata": {},
     "output_type": "execute_result"
    }
   ],
   "source": [
    "int(df_train['fact_time'][0])"
   ]
  },
  {
   "cell_type": "code",
   "execution_count": 43,
   "metadata": {},
   "outputs": [],
   "source": [
    "import datetime\n",
    "import time"
   ]
  },
  {
   "cell_type": "code",
   "execution_count": 54,
   "metadata": {},
   "outputs": [],
   "source": [
    "timestamp = df_train['fact_time'][2]\n",
    "datetimeobj = datetime.datetime.fromtimestamp(timestamp)"
   ]
  },
  {
   "cell_type": "code",
   "execution_count": 53,
   "metadata": {},
   "outputs": [
    {
     "data": {
      "text/plain": [
       "datetime.datetime(2018, 10, 5, 21, 53)"
      ]
     },
     "execution_count": 53,
     "metadata": {},
     "output_type": "execute_result"
    }
   ],
   "source": [
    "datetimeobj"
   ]
  },
  {
   "cell_type": "code",
   "execution_count": 55,
   "metadata": {},
   "outputs": [
    {
     "data": {
      "text/plain": [
       "datetime.datetime(2019, 3, 9, 7, 0)"
      ]
     },
     "execution_count": 55,
     "metadata": {},
     "output_type": "execute_result"
    }
   ],
   "source": [
    "datetimeobj"
   ]
  },
  {
   "cell_type": "code",
   "execution_count": null,
   "metadata": {},
   "outputs": [],
   "source": []
  }
 ],
 "metadata": {
  "kernelspec": {
   "display_name": "Python 3",
   "language": "python",
   "name": "python3"
  },
  "language_info": {
   "codemirror_mode": {
    "name": "ipython",
    "version": 3
   },
   "file_extension": ".py",
   "mimetype": "text/x-python",
   "name": "python",
   "nbconvert_exporter": "python",
   "pygments_lexer": "ipython3",
   "version": "3.7.4"
  }
 },
 "nbformat": 4,
 "nbformat_minor": 4
}
